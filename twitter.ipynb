{
 "cells": [
  {
   "cell_type": "code",
   "execution_count": 1,
   "metadata": {},
   "outputs": [],
   "source": [
    "import tweepy\n",
    "import pandas as pd\n",
    "from collections import namedtuple, Counter\n",
    "import itertools\n",
    "import numpy as np\n",
    "import matplotlib.pyplot as plt\n",
    "import seaborn as sns\n",
    "import pickle\n",
    "\n",
    "%matplotlib inline"
   ]
  },
  {
   "cell_type": "code",
   "execution_count": null,
   "metadata": {
    "collapsed": true
   },
   "outputs": [],
   "source": [
    "# set up Twitter credentials using tweepy \n",
    "\n",
    "auth = tweepy.OAuthHandler('UEALJgD2o5lwpOeAeNhb9ceWX', 'JqB4i0TIqRizGtp97BovQN5iQDgA5BpF5tHHL0nZkUEANjxJuV')\n",
    "auth.set_access_token('732602583689367552-KeUxTRNYO2XwFux13Tp1yLoKyylMyO7', '0WWtEXmjOV1g732CBPs9Te8xQa7VKuSIBP9A0J4dxm1mL')\n",
    "\n",
    "api = tweepy.API(auth)"
   ]
  },
  {
   "cell_type": "code",
   "execution_count": 2,
   "metadata": {
    "collapsed": true
   },
   "outputs": [],
   "source": [
    "# use named tuples to keep info of interest for each tweet; keep urls to remove from text later\n",
    "\n",
    "Tweet = namedtuple('Tweet', ['text', 'tags', 'cited', 'urls', 'author'])"
   ]
  },
  {
   "cell_type": "code",
   "execution_count": 3,
   "metadata": {
    "collapsed": true
   },
   "outputs": [],
   "source": [
    "# utility functions to collect info of interest\n",
    "\n",
    "def get_hashtags(tweet):\n",
    "    tags = []\n",
    "    if len(tweet['entities']['hashtags']) > 0:\n",
    "        for tag in tweet['entities']['hashtags']:\n",
    "            tags.append(tag['text'])\n",
    "    return tags\n",
    "\n",
    "def get_citations(tweet):\n",
    "    citations = []\n",
    "    if len(tweet['entities']['user_mentions']) > 0:\n",
    "        for mention in tweet['entities']['user_mentions']:\n",
    "            citations.append(mention['screen_name'])\n",
    "    return citations\n",
    "\n",
    "def get_urls(tweet):\n",
    "    urls = []\n",
    "    if len(tweet['entities']['urls']) > 0:\n",
    "        for url in tweet['entities']['urls']:\n",
    "            urls.append(url['url'])\n",
    "    return urls\n",
    "           "
   ]
  },
  {
   "cell_type": "code",
   "execution_count": null,
   "metadata": {},
   "outputs": [],
   "source": [
    "# pull in tweets for each influencer listed in influencers.txt and process most recent 500 that are not retweets\n",
    "# store as lists in a dict with the influencer handles as keys \n",
    "\n",
    "all_tweets = {}\n",
    "with open('influencers.txt', 'r') as names:\n",
    "    for raw_name in names:\n",
    "        name = raw_name.strip()\n",
    "        tweets = tweepy.Cursor(api.user_timeline, id=name, tweet_mode='extended').items(800)\n",
    "        keepers = [tweet._json for tweet in tweets if 'retweeted_status' not in tweet._json]\n",
    "        all_tweets[name] = [Tweet(tweet['full_text'], get_hashtags(tweet), get_citations(tweet), get_urls(tweet),\n",
    "                                  name) for tweet in keepers[:500]]    \n",
    "\n",
    "names = all_tweets.keys()\n",
    "\n"
   ]
  },
  {
   "cell_type": "code",
   "execution_count": null,
   "metadata": {
    "collapsed": true
   },
   "outputs": [],
   "source": [
    "# also get the description each person uses\n",
    "\n",
    "descriptions = {}\n",
    "for name in names:\n",
    "    descriptions[name] = api.get_user(name)._json['description']"
   ]
  },
  {
   "cell_type": "code",
   "execution_count": 7,
   "metadata": {
    "collapsed": true
   },
   "outputs": [],
   "source": [
    "# save data in case kernel hangs or is stopped\n",
    "\n",
    "with open('twitter_data.pydat', 'wb') as datafile:\n",
    "    pickle.dump(all_tweets, datafile)\n",
    "\n",
    "with open('twitter_descriptions.pydat', 'wb') as datafile:\n",
    "    pickle.dump(descriptions, datafile)"
   ]
  },
  {
   "cell_type": "code",
   "execution_count": 8,
   "metadata": {
    "collapsed": true
   },
   "outputs": [],
   "source": [
    "# create dict of Counters for the hashtags used by each person\n",
    "\n",
    "all_tags = {}\n",
    "for name in names:\n",
    "    tags = [tweet.tags for tweet in all_tweets[name]]\n",
    "    all_tags[name] = Counter(list(itertools.chain(*tags)))"
   ]
  },
  {
   "cell_type": "code",
   "execution_count": 9,
   "metadata": {
    "collapsed": true
   },
   "outputs": [],
   "source": [
    "# create dict of Counters for the mentions made by each person\n",
    "\n",
    "all_mentions = {}\n",
    "for name in names:\n",
    "    mentions = [tweet.cited for tweet in all_tweets[name]]\n",
    "    all_mentions[name] = Counter(list(itertools.chain(*mentions)))"
   ]
  },
  {
   "cell_type": "code",
   "execution_count": 10,
   "metadata": {
    "collapsed": true
   },
   "outputs": [],
   "source": [
    "# create Counter for all the hashtags used\n",
    "\n",
    "tags = Counter()\n",
    "for name in names:\n",
    "    tags += all_tags[name]"
   ]
  },
  {
   "cell_type": "code",
   "execution_count": 11,
   "metadata": {},
   "outputs": [
    {
     "data": {
      "text/plain": [
       "1643"
      ]
     },
     "execution_count": 11,
     "metadata": {},
     "output_type": "execute_result"
    }
   ],
   "source": [
    "len(list(tags))"
   ]
  },
  {
   "cell_type": "code",
   "execution_count": 12,
   "metadata": {},
   "outputs": [
    {
     "data": {
      "text/plain": [
       "288"
      ]
     },
     "execution_count": 12,
     "metadata": {},
     "output_type": "execute_result"
    }
   ],
   "source": [
    "# collect all hashtags used by more than one influencer for use as features\n",
    "# should have done this with the hashtags too\n",
    "\n",
    "tag_features = [tag for tag in list(tags.keys()) if sum([0 if all_tags[name][tag] == 0 else 1 for name in names]) > 1]\n",
    "len(tag_features)"
   ]
  },
  {
   "cell_type": "code",
   "execution_count": 13,
   "metadata": {
    "collapsed": true
   },
   "outputs": [],
   "source": [
    "# create Counter for all the mentions made\n",
    "\n",
    "mentions = Counter()\n",
    "for name in names:\n",
    "    mentions += all_mentions[name]"
   ]
  },
  {
   "cell_type": "code",
   "execution_count": 14,
   "metadata": {},
   "outputs": [
    {
     "data": {
      "text/plain": [
       "2784"
      ]
     },
     "execution_count": 14,
     "metadata": {},
     "output_type": "execute_result"
    }
   ],
   "source": [
    "len(list(mentions))"
   ]
  },
  {
   "cell_type": "code",
   "execution_count": 15,
   "metadata": {},
   "outputs": [
    {
     "data": {
      "text/plain": [
       "345"
      ]
     },
     "execution_count": 15,
     "metadata": {},
     "output_type": "execute_result"
    }
   ],
   "source": [
    "# collect all mentions made by more than one influencer for use as features\n",
    "\n",
    "mention_features = [mention for mention in list(mentions.keys()) if sum([0 if all_mentions[name][mention] == 0 else 1\n",
    "                                                                         for name in names]) > 1]\n",
    "len(mention_features)"
   ]
  },
  {
   "cell_type": "code",
   "execution_count": 16,
   "metadata": {},
   "outputs": [
    {
     "data": {
      "text/plain": [
       "10"
      ]
     },
     "execution_count": 16,
     "metadata": {},
     "output_type": "execute_result"
    }
   ],
   "source": [
    "# find duplicates between tags and mentions\n",
    "\n",
    "duplicates = list(set(tag_features) & set(mention_features))\n",
    "len(duplicates)"
   ]
  },
  {
   "cell_type": "code",
   "execution_count": 17,
   "metadata": {},
   "outputs": [
    {
     "data": {
      "text/plain": [
       "335"
      ]
     },
     "execution_count": 17,
     "metadata": {},
     "output_type": "execute_result"
    }
   ],
   "source": [
    "# remove from mentions since there are more of them\n",
    "# Note: this turned out to be unnecssary because tokenization split off the '#' but not the '@'\n",
    "\n",
    "mention_features = [mention for mention in mention_features if mention not in duplicates]\n",
    "len(mention_features)"
   ]
  },
  {
   "cell_type": "code",
   "execution_count": 18,
   "metadata": {
    "collapsed": true
   },
   "outputs": [],
   "source": [
    "# create feature vectors comprising the counts for each tag and mention feature\n",
    "\n",
    "entities = pd.DataFrame(index=names, columns=(tag_features + mention_features))\n",
    "for name in names:\n",
    "    for tag in tag_features:\n",
    "        entities.loc[name, tag] = all_tags[name][tag]\n",
    "    for mention in mention_features:\n",
    "        entities.loc[name, mention] = all_tags[name][mention]"
   ]
  },
  {
   "cell_type": "code",
   "execution_count": 19,
   "metadata": {
    "collapsed": true
   },
   "outputs": [],
   "source": [
    "from sklearn.cluster import KMeans, MeanShift, estimate_bandwidth, SpectralClustering, DBSCAN\n",
    "from sklearn.preprocessing import normalize\n",
    "from sklearn.decomposition import PCA\n",
    "from sklearn.metrics import silhouette_score"
   ]
  },
  {
   "cell_type": "code",
   "execution_count": 20,
   "metadata": {
    "collapsed": true
   },
   "outputs": [],
   "source": [
    "# normalize the features and perform a 2-component PCA analysis to use for graphing\n",
    "\n",
    "normed_ents = normalize(entities)"
   ]
  },
  {
   "cell_type": "code",
   "execution_count": 21,
   "metadata": {},
   "outputs": [
    {
     "data": {
      "text/plain": [
       "array([ 0.28006677,  0.15739239])"
      ]
     },
     "execution_count": 21,
     "metadata": {},
     "output_type": "execute_result"
    }
   ],
   "source": [
    "ents_pca = PCA(2).fit(normed_ents)\n",
    "ents_pca.explained_variance_ratio_"
   ]
  },
  {
   "cell_type": "markdown",
   "metadata": {},
   "source": [
    "### Try basic mean shift clustering"
   ]
  },
  {
   "cell_type": "code",
   "execution_count": 22,
   "metadata": {},
   "outputs": [
    {
     "data": {
      "text/plain": [
       "array([0, 0, 0, 0, 0, 0, 1, 2, 0, 0, 0, 0, 0, 3, 4])"
      ]
     },
     "execution_count": 22,
     "metadata": {},
     "output_type": "execute_result"
    }
   ],
   "source": [
    "ms = MeanShift()\n",
    "ms.fit(normed_ents)\n",
    "ms.labels_"
   ]
  },
  {
   "cell_type": "markdown",
   "metadata": {},
   "source": [
    "Mean shift did not produce usable results, merely clustering all the authors together except for four clusters of one person each."
   ]
  },
  {
   "cell_type": "markdown",
   "metadata": {},
   "source": [
    "### Try k-means clustering"
   ]
  },
  {
   "cell_type": "code",
   "execution_count": 23,
   "metadata": {},
   "outputs": [
    {
     "name": "stdout",
     "output_type": "stream",
     "text": [
      "The optimal number of clusters is 2\n",
      "Cluster 0 comprises ['AndrewYNg', 'mrogati', 'analyticbridge', 'naval', 'hmason', 'EvanSinar']\n",
      "Cluster 1 comprises ['KirkDBorne', 'Ronald_vanLoon', 'craigbrownphd', 'bobehayes', 'BernardMarr', 'BigDataGal', 'data_nerd', 'kdnuggets', 'tamaradull']\n"
     ]
    }
   ],
   "source": [
    "# using silhouette scores over 1,000 runs to find the optimal number of clusters, then the best clusters\n",
    "\n",
    "clusters = []\n",
    "for _ in range(1000):\n",
    "    best_score = 0\n",
    "    num_labels = 0\n",
    "    for num_clusters in range(2, 7):\n",
    "        km = KMeans(num_clusters)\n",
    "        km.fit(normed_ents)\n",
    "        sil_score = silhouette_score(normed_ents, km.labels_)\n",
    "        if sil_score > best_score:\n",
    "            best_score = sil_score\n",
    "            num_labels = len(np.unique(km.labels_))\n",
    "    clusters.append(num_labels)\n",
    "\n",
    "optimal_num_clusters = Counter(clusters).most_common(1)[0][0]\n",
    "print('The optimal number of clusters is {}'.format(optimal_num_clusters))\n",
    "      \n",
    "best_labels = []\n",
    "best_score = 0\n",
    "\n",
    "for _ in range(1000):\n",
    "    km = KMeans(optimal_num_clusters)\n",
    "    km.fit(normed_ents)\n",
    "    sil_score = silhouette_score(normed_ents, km.labels_)\n",
    "    if sil_score > best_score:\n",
    "        best_score = sil_score\n",
    "        best_labels = km.labels_\n",
    "\n",
    "for i in range(optimal_num_clusters):\n",
    "    print('Cluster {} comprises {}'.format(i, [name for ix, name in enumerate(names) if best_labels[ix] == i]))"
   ]
  },
  {
   "cell_type": "code",
   "execution_count": 24,
   "metadata": {},
   "outputs": [
    {
     "data": {
      "text/plain": [
       "[(2, 655), (6, 165), (4, 81), (5, 52), (3, 47)]"
      ]
     },
     "execution_count": 24,
     "metadata": {},
     "output_type": "execute_result"
    }
   ],
   "source": [
    "Counter(clusters).most_common()"
   ]
  },
  {
   "cell_type": "markdown",
   "metadata": {},
   "source": [
    "The algorithm generated one cluster of authors with very few hashtags and mentions, and another comprising everyone else. This is a valid but not very sophisticated breakdown. The only really interesting result is that one author with a relatively high number of tags and mentions (EvanSinar, with 665) was put in the group with low numbers. Apparently he had few of these entities in common with others, resulting in low similarity scores as did authors with few entities."
   ]
  },
  {
   "cell_type": "code",
   "execution_count": 25,
   "metadata": {},
   "outputs": [
    {
     "name": "stdout",
     "output_type": "stream",
     "text": [
      "KirkDBorne     : 2493 entities\n",
      "Ronald_vanLoon : 4092 entities\n",
      "craigbrownphd  : 563 entities\n",
      "bobehayes      : 1346 entities\n",
      "BernardMarr    : 953 entities\n",
      "BigDataGal     : 1273 entities\n",
      "AndrewYNg      : 6 entities\n",
      "mrogati        : 4 entities\n",
      "data_nerd      : 147 entities\n",
      "kdnuggets      : 265 entities\n",
      "analyticbridge : 0 entities\n",
      "naval          : 0 entities\n",
      "tamaradull     : 573 entities\n",
      "hmason         : 5 entities\n",
      "EvanSinar      : 665 entities\n"
     ]
    }
   ],
   "source": [
    "for name in names:\n",
    "    print('{:15}: {} entities'.format(name, entities.loc[name].sum()))"
   ]
  },
  {
   "cell_type": "markdown",
   "metadata": {},
   "source": [
    "The Twitter account descriptions are not very helpful for discovering similarities. Most are very similar."
   ]
  },
  {
   "cell_type": "code",
   "execution_count": 26,
   "metadata": {
    "collapsed": true
   },
   "outputs": [],
   "source": [
    "groups = pd.DataFrame(index=names, columns=['description', 'label'])\n",
    "for name in names:\n",
    "    groups.loc[name, 'description'] = descriptions[name]\n",
    "groups.loc[:, 'label'] = best_labels"
   ]
  },
  {
   "cell_type": "code",
   "execution_count": 27,
   "metadata": {},
   "outputs": [
    {
     "name": "stdout",
     "output_type": "stream",
     "text": [
      "AndrewYNg :   Co-Founder of Coursera; Stanford CS adjunct faculty. Former head of Baidu AI Group/Google Brain. #ai #machinelearning, #deeplearning #MOOCs \n",
      "\n",
      "mrogati :   Data Science & AI advisor; fractional CDO. Former VP of Data @Jawbone & @LinkedIn data scientist. Equity Partner @DCVC. CMU CS PhD. \n",
      "\n",
      "analyticbridge :   Co-founded by Vincent Granville and part of the DSC community, our  focus is on data science, ML, AI, deep learning, dataviz, Hadoop, IoT, and BI. \n",
      "\n",
      "naval :   Present. \n",
      "\n",
      "hmason :   GM for Machine Learning at @Cloudera. Founder at @FastForwardLabs. Data Scientist in Residence at @accel. I ♥ data and cheeseburgers. \n",
      "\n",
      "EvanSinar :   Chief Scientist & VP at Development Dimensions International (@DDIworld); Author & Top Influencer on #leadership | #dataviz | #analytics | #datascience | #iot \n",
      "\n",
      "\n",
      "\n",
      "\n",
      "KirkDBorne :   The Principal Data Scientist @BoozAllen. PhD Astrophysicist. Ex-Professor. Top Data Science and Big Data Influencer. https://t.co/f4gsbNc00C 📊📈🔭 \n",
      "\n",
      "Ronald_vanLoon :   Helping data driven companies generating value•Top10Influencer #BigData #DataScience #IoT #MachineLearning #AI #Analytics•Follow Youtube\n",
      "https://t.co/1fTKAp3WNb \n",
      "\n",
      "craigbrownphd :   #Technology #Consultant (#techpreneur), #IT, #Data #Entrepreneur, #DataScience, #SME #CancerSurvivor #BigData #Cloud #AI #ML  https://t.co/7g098ndycZ \n",
      "\n",
      "bobehayes :   Researcher, writer and consultant, B.O.B. holds a PhD in industrial-organizational psychology. Interests in #datascience #cx #statistics #machinelearning \n",
      "\n",
      "BernardMarr :   Internationally best-selling author; keynote speaker; futurist; #business, #technology, and #data advisor to governments and companies. \n",
      "\n",
      "BigDataGal :   🇺🇸 Data Strategist, Trainer & Biz Coach to Tech Professionals.  Tweets on #BigData #AI #IoT #WIT →Want to build your own profitable business? Join for FREE↓ \n",
      "\n",
      "data_nerd :   Data Scientist & Owner Analytical-Solution  DataNerd RT ≠ equal endorsement. Love sharing info about #DataScience #WIT  https://t.co/L9M6kSSaef \n",
      "\n",
      "kdnuggets :   Covering #AI, #Analytics, #BigData, #DataMining, #DataScience #MachineLearning, #DeepLearning.  Founded by Gregory Piatetsky-Shapiro. \n",
      "\n",
      "tamaradull :   Principal Evangelist @awscloud | Just livin' my best life in a geek's paradise! | #IoT #blockchain #opensource #cloudcomputing #emergingtech #womenintech \n",
      "\n",
      "\n",
      "\n",
      "\n"
     ]
    }
   ],
   "source": [
    "for label in np.unique(best_labels):\n",
    "    for name in names:\n",
    "        if groups.loc[name, 'label'] == label:\n",
    "            print(name, ':  ', groups.loc[name, 'description'], '\\n')\n",
    "    print('\\n\\n')"
   ]
  },
  {
   "cell_type": "markdown",
   "metadata": {},
   "source": [
    "### Plot the clusters against the two principal components for a simple visualization."
   ]
  },
  {
   "cell_type": "code",
   "execution_count": 28,
   "metadata": {
    "collapsed": true
   },
   "outputs": [],
   "source": [
    "viz = ents_pca.transform(entities)\n",
    "viz = pd.DataFrame(viz, index=names, columns=['pca0', 'pca1'])\n",
    "viz['label'] = best_labels"
   ]
  },
  {
   "cell_type": "code",
   "execution_count": 29,
   "metadata": {},
   "outputs": [
    {
     "data": {
      "text/plain": [
       "<seaborn.axisgrid.FacetGrid at 0x118ff45f8>"
      ]
     },
     "execution_count": 29,
     "metadata": {},
     "output_type": "execute_result"
    },
    {
     "data": {
      "image/png": "[encoded data removed]",
      "text/plain": [
       "<matplotlib.figure.Figure at 0x118ff4630>"
      ]
     },
     "metadata": {},
     "output_type": "display_data"
    }
   ],
   "source": [
    "cmap = sns.cubehelix_palette(n_colors=2, rot=-0.7)\n",
    "sns.relplot(x='pca0', y='pca1', hue='label', data=viz, palette=cmap)"
   ]
  },
  {
   "cell_type": "markdown",
   "metadata": {},
   "source": [
    "Although the plot utiizes only the first two components, which combine to explain less than half of the variance, and a few points are not individually visible since they are too close together, even here the clusters can be seen to comprise a large group occupying most of the plot and a group of outliers. With the exception of EvanSinar, the outlying cluster groups together people who included zero or very few hashtags and mentions common to others in their tweets."
   ]
  },
  {
   "cell_type": "code",
   "execution_count": 30,
   "metadata": {},
   "outputs": [
    {
     "data": {
      "text/html": [
       "<div>\n",
       "<style>\n",
       "    .dataframe thead tr:only-child th {\n",
       "        text-align: right;\n",
       "    }\n",
       "\n",
       "    .dataframe thead th {\n",
       "        text-align: left;\n",
       "    }\n",
       "\n",
       "    .dataframe tbody tr th {\n",
       "        vertical-align: top;\n",
       "    }\n",
       "</style>\n",
       "<table border=\"1\" class=\"dataframe\">\n",
       "  <thead>\n",
       "    <tr style=\"text-align: right;\">\n",
       "      <th></th>\n",
       "      <th>pca0</th>\n",
       "      <th>pca1</th>\n",
       "      <th>label</th>\n",
       "      <th>num_entities</th>\n",
       "    </tr>\n",
       "  </thead>\n",
       "  <tbody>\n",
       "    <tr>\n",
       "      <th>analyticbridge</th>\n",
       "      <td>0.307586</td>\n",
       "      <td>0.012970</td>\n",
       "      <td>0</td>\n",
       "      <td>0</td>\n",
       "    </tr>\n",
       "    <tr>\n",
       "      <th>naval</th>\n",
       "      <td>0.307586</td>\n",
       "      <td>0.012970</td>\n",
       "      <td>0</td>\n",
       "      <td>0</td>\n",
       "    </tr>\n",
       "    <tr>\n",
       "      <th>mrogati</th>\n",
       "      <td>1.428811</td>\n",
       "      <td>-0.320550</td>\n",
       "      <td>0</td>\n",
       "      <td>4</td>\n",
       "    </tr>\n",
       "    <tr>\n",
       "      <th>hmason</th>\n",
       "      <td>1.750313</td>\n",
       "      <td>-0.344222</td>\n",
       "      <td>0</td>\n",
       "      <td>5</td>\n",
       "    </tr>\n",
       "    <tr>\n",
       "      <th>AndrewYNg</th>\n",
       "      <td>0.388220</td>\n",
       "      <td>-0.462557</td>\n",
       "      <td>0</td>\n",
       "      <td>6</td>\n",
       "    </tr>\n",
       "    <tr>\n",
       "      <th>data_nerd</th>\n",
       "      <td>-24.461976</td>\n",
       "      <td>-4.433886</td>\n",
       "      <td>1</td>\n",
       "      <td>147</td>\n",
       "    </tr>\n",
       "    <tr>\n",
       "      <th>kdnuggets</th>\n",
       "      <td>-59.388900</td>\n",
       "      <td>-50.623382</td>\n",
       "      <td>1</td>\n",
       "      <td>265</td>\n",
       "    </tr>\n",
       "    <tr>\n",
       "      <th>craigbrownphd</th>\n",
       "      <td>-77.941822</td>\n",
       "      <td>121.987712</td>\n",
       "      <td>1</td>\n",
       "      <td>563</td>\n",
       "    </tr>\n",
       "    <tr>\n",
       "      <th>tamaradull</th>\n",
       "      <td>-68.869569</td>\n",
       "      <td>102.686168</td>\n",
       "      <td>1</td>\n",
       "      <td>573</td>\n",
       "    </tr>\n",
       "    <tr>\n",
       "      <th>EvanSinar</th>\n",
       "      <td>24.740672</td>\n",
       "      <td>-17.542021</td>\n",
       "      <td>0</td>\n",
       "      <td>665</td>\n",
       "    </tr>\n",
       "    <tr>\n",
       "      <th>BernardMarr</th>\n",
       "      <td>-141.123089</td>\n",
       "      <td>11.700450</td>\n",
       "      <td>1</td>\n",
       "      <td>953</td>\n",
       "    </tr>\n",
       "    <tr>\n",
       "      <th>BigDataGal</th>\n",
       "      <td>-282.748661</td>\n",
       "      <td>144.448719</td>\n",
       "      <td>1</td>\n",
       "      <td>1273</td>\n",
       "    </tr>\n",
       "    <tr>\n",
       "      <th>bobehayes</th>\n",
       "      <td>-215.895211</td>\n",
       "      <td>-160.654537</td>\n",
       "      <td>1</td>\n",
       "      <td>1346</td>\n",
       "    </tr>\n",
       "    <tr>\n",
       "      <th>KirkDBorne</th>\n",
       "      <td>-570.469508</td>\n",
       "      <td>-154.704670</td>\n",
       "      <td>1</td>\n",
       "      <td>2493</td>\n",
       "    </tr>\n",
       "    <tr>\n",
       "      <th>Ronald_vanLoon</th>\n",
       "      <td>-466.987233</td>\n",
       "      <td>4.602892</td>\n",
       "      <td>1</td>\n",
       "      <td>4092</td>\n",
       "    </tr>\n",
       "  </tbody>\n",
       "</table>\n",
       "</div>"
      ],
      "text/plain": [
       "                      pca0        pca1  label  num_entities\n",
       "analyticbridge    0.307586    0.012970      0             0\n",
       "naval             0.307586    0.012970      0             0\n",
       "mrogati           1.428811   -0.320550      0             4\n",
       "hmason            1.750313   -0.344222      0             5\n",
       "AndrewYNg         0.388220   -0.462557      0             6\n",
       "data_nerd       -24.461976   -4.433886      1           147\n",
       "kdnuggets       -59.388900  -50.623382      1           265\n",
       "craigbrownphd   -77.941822  121.987712      1           563\n",
       "tamaradull      -68.869569  102.686168      1           573\n",
       "EvanSinar        24.740672  -17.542021      0           665\n",
       "BernardMarr    -141.123089   11.700450      1           953\n",
       "BigDataGal     -282.748661  144.448719      1          1273\n",
       "bobehayes      -215.895211 -160.654537      1          1346\n",
       "KirkDBorne     -570.469508 -154.704670      1          2493\n",
       "Ronald_vanLoon -466.987233    4.602892      1          4092"
      ]
     },
     "execution_count": 30,
     "metadata": {},
     "output_type": "execute_result"
    }
   ],
   "source": [
    "viz['num_entities'] = [sum(list(entities.iloc[ix])) for ix, name in enumerate(names)]\n",
    "\n",
    "viz.sort_values(by='num_entities')"
   ]
  },
  {
   "cell_type": "markdown",
   "metadata": {},
   "source": [
    "The optimal KMeans grouping scheme of 2 clusters divides the authors into a group with very few common hashtags and mentions, and another group comprising authors with many common hashtags and mentions. EvanSinar is the exception, having 665 common hashtags and mentions but appearing in the group with very few of these. This might represent one network comprising 9 members and 6 people whose networks do not intersect with each other or those in the 9-member group, but the few-entities group also might comprise mostly authors whose style is to not use many hashtags or mentions. It would be interesting to look at the 6-cluster groupings, but this question cannot be settled given the data. Without all of the authors using a good number of common hashtags and/or mentions, clustering on these features will not produce useful results. Clustering on only those authors who do use large numbers of these entities could produce insights."
   ]
  },
  {
   "cell_type": "markdown",
   "metadata": {},
   "source": [
    "### Try spectral clustering"
   ]
  },
  {
   "cell_type": "code",
   "execution_count": 31,
   "metadata": {},
   "outputs": [
    {
     "name": "stderr",
     "output_type": "stream",
     "text": [
      "/Users/vince/anaconda/envs/thinkful/lib/python3.6/site-packages/sklearn/manifold/spectral_embedding_.py:234: UserWarning: Graph is not fully connected, spectral embedding may not work as expected.\n",
      "  warnings.warn(\"Graph is not fully connected, spectral embedding\"\n"
     ]
    },
    {
     "data": {
      "text/plain": [
       "array([1, 1, 0, 1, 0, 2, 1, 1, 1, 1, 3, 3, 0, 1, 1], dtype=int32)"
      ]
     },
     "execution_count": 31,
     "metadata": {},
     "output_type": "execute_result"
    }
   ],
   "source": [
    "sc = SpectralClustering(n_clusters=4)\n",
    "sc.fit(entities)\n",
    "\n",
    "sc_labels = sc.labels_\n",
    "sc_labels"
   ]
  },
  {
   "cell_type": "markdown",
   "metadata": {},
   "source": [
    "The warning arises from the fact that two of the authors have entity vectors that are all zeroes. This results in the graph being not fully connected. Forcing the algorithm to create four clusters produces one large cluster, two 2-person clusters and a 1-person cluster. At this point, the reults taken together indicate that clustering on the hashtags and mentions is not very useful."
   ]
  },
  {
   "cell_type": "markdown",
   "metadata": {},
   "source": [
    "## Try clustering using tf-idf vectorization"
   ]
  },
  {
   "cell_type": "code",
   "execution_count": 32,
   "metadata": {
    "collapsed": true
   },
   "outputs": [],
   "source": [
    "import re"
   ]
  },
  {
   "cell_type": "code",
   "execution_count": 33,
   "metadata": {
    "collapsed": true
   },
   "outputs": [],
   "source": [
    "# gather the tweet texts as elements of a list in preparation for tf-idf vectorization\n",
    "# create a dataframe with a list for each author, for clustering, and one with indidvidual tweets and their authors\n",
    "\n",
    "tweet_texts = []\n",
    "tweet_authors = []\n",
    "tweets_by_author = pd.DataFrame(index=names, columns=['combined'])\n",
    "\n",
    "\n",
    "for name in names:\n",
    "    tweets = [re.sub('https?:\\/\\/[-\\w.]\\.?[a-zA-Z0-9]+\\/?[a-zA-Z0-9]*', '', tweet.text).strip()\n",
    "              for tweet in all_tweets[name]]\n",
    "    tweets_by_author.loc[name, 'combined'] = ' '.join(tweets)\n",
    "    tweet_texts.extend(tweets)\n",
    "    tweet_authors.extend([name] * len(tweets))\n",
    "        "
   ]
  },
  {
   "cell_type": "code",
   "execution_count": 34,
   "metadata": {
    "collapsed": true
   },
   "outputs": [],
   "source": [
    "tweets_df = pd.DataFrame({'text': tweet_texts, 'author': tweet_authors})"
   ]
  },
  {
   "cell_type": "code",
   "execution_count": 35,
   "metadata": {},
   "outputs": [
    {
     "data": {
      "text/html": [
       "<div>\n",
       "<style>\n",
       "    .dataframe thead tr:only-child th {\n",
       "        text-align: right;\n",
       "    }\n",
       "\n",
       "    .dataframe thead th {\n",
       "        text-align: left;\n",
       "    }\n",
       "\n",
       "    .dataframe tbody tr th {\n",
       "        vertical-align: top;\n",
       "    }\n",
       "</style>\n",
       "<table border=\"1\" class=\"dataframe\">\n",
       "  <thead>\n",
       "    <tr style=\"text-align: right;\">\n",
       "      <th></th>\n",
       "      <th>author</th>\n",
       "      <th>text</th>\n",
       "    </tr>\n",
       "  </thead>\n",
       "  <tbody>\n",
       "    <tr>\n",
       "      <th>995</th>\n",
       "      <td>Ronald_vanLoon</td>\n",
       "      <td>Six Ways #CIOs Can Drive #DigitalTransformatio...</td>\n",
       "    </tr>\n",
       "    <tr>\n",
       "      <th>996</th>\n",
       "      <td>Ronald_vanLoon</td>\n",
       "      <td>#SmartManufacturing clearly explained in 2 min...</td>\n",
       "    </tr>\n",
       "    <tr>\n",
       "      <th>997</th>\n",
       "      <td>Ronald_vanLoon</td>\n",
       "      <td>Knowing the Difference between #UX and #UI Des...</td>\n",
       "    </tr>\n",
       "    <tr>\n",
       "      <th>998</th>\n",
       "      <td>Ronald_vanLoon</td>\n",
       "      <td>QIN #AI Phone on MioT Crowdfunding Platform\\nb...</td>\n",
       "    </tr>\n",
       "    <tr>\n",
       "      <th>999</th>\n",
       "      <td>Ronald_vanLoon</td>\n",
       "      <td>#MachineLearning Summarized in One Picture\\nby...</td>\n",
       "    </tr>\n",
       "    <tr>\n",
       "      <th>1000</th>\n",
       "      <td>craigbrownphd</td>\n",
       "      <td>Augmented reality, fog, and vision: Duke profe...</td>\n",
       "    </tr>\n",
       "    <tr>\n",
       "      <th>1001</th>\n",
       "      <td>craigbrownphd</td>\n",
       "      <td>Openreach extends full-fibre broadband roll-ou...</td>\n",
       "    </tr>\n",
       "    <tr>\n",
       "      <th>1002</th>\n",
       "      <td>craigbrownphd</td>\n",
       "      <td>After Fetching a High Price, Time Magazine Mov...</td>\n",
       "    </tr>\n",
       "    <tr>\n",
       "      <th>1003</th>\n",
       "      <td>craigbrownphd</td>\n",
       "      <td>A Piece of Christmas Pie: The most criticized ...</td>\n",
       "    </tr>\n",
       "    <tr>\n",
       "      <th>1004</th>\n",
       "      <td>craigbrownphd</td>\n",
       "      <td>Full-fibre broadband penetration reaches 5%  #...</td>\n",
       "    </tr>\n",
       "    <tr>\n",
       "      <th>1005</th>\n",
       "      <td>craigbrownphd</td>\n",
       "      <td>Project Management – Critical Success Factors ...</td>\n",
       "    </tr>\n",
       "  </tbody>\n",
       "</table>\n",
       "</div>"
      ],
      "text/plain": [
       "              author                                               text\n",
       "995   Ronald_vanLoon  Six Ways #CIOs Can Drive #DigitalTransformatio...\n",
       "996   Ronald_vanLoon  #SmartManufacturing clearly explained in 2 min...\n",
       "997   Ronald_vanLoon  Knowing the Difference between #UX and #UI Des...\n",
       "998   Ronald_vanLoon  QIN #AI Phone on MioT Crowdfunding Platform\\nb...\n",
       "999   Ronald_vanLoon  #MachineLearning Summarized in One Picture\\nby...\n",
       "1000   craigbrownphd  Augmented reality, fog, and vision: Duke profe...\n",
       "1001   craigbrownphd  Openreach extends full-fibre broadband roll-ou...\n",
       "1002   craigbrownphd  After Fetching a High Price, Time Magazine Mov...\n",
       "1003   craigbrownphd  A Piece of Christmas Pie: The most criticized ...\n",
       "1004   craigbrownphd  Full-fibre broadband penetration reaches 5%  #...\n",
       "1005   craigbrownphd  Project Management – Critical Success Factors ..."
      ]
     },
     "execution_count": 35,
     "metadata": {},
     "output_type": "execute_result"
    }
   ],
   "source": [
    "# reality check: the tweets in the dataframe should change authors at a multiple of 500\n",
    "\n",
    "tweets_df.loc[995:1005]"
   ]
  },
  {
   "cell_type": "markdown",
   "metadata": {},
   "source": [
    "Apply tf-idf vectorization. Tweets are compact and rely on impact words more than grammatical constructions, so vocabulary seems more appropriate than tokenization and analysis involving parts of speech and phraseology. A question to be settled is whether individual tweets are too short to produce meaningful vectorizations, in which case groupings of several tweets might produce better results."
   ]
  },
  {
   "cell_type": "code",
   "execution_count": 36,
   "metadata": {
    "collapsed": true
   },
   "outputs": [],
   "source": [
    "from sklearn.model_selection import train_test_split\n",
    "from sklearn.feature_extraction.text import TfidfVectorizer\n",
    "from sklearn.decomposition import TruncatedSVD\n",
    "from sklearn.pipeline import make_pipeline\n",
    "from sklearn.preprocessing import Normalizer"
   ]
  },
  {
   "cell_type": "code",
   "execution_count": 37,
   "metadata": {
    "collapsed": true
   },
   "outputs": [],
   "source": [
    "vectorizer = TfidfVectorizer(max_df=0.5, # drop words that occur in more than half the paragraphs\n",
    "                             min_df=2, # only use words that appear at least twice\n",
    "                             stop_words='english', \n",
    "                             lowercase=True, #convert everything to lower case (since Alice in Wonderland has the HABIT of CAPITALIZING WORDS for EMPHASIS)\n",
    "                             use_idf=True,#we definitely want to use inverse document frequencies in our weighting\n",
    "                             norm=u'l2', #Applies a correction factor so that longer paragraphs and shorter paragraphs get treated equally\n",
    "                             smooth_idf=True #Adds 1 to all document frequencies, as if an extra document existed that used every word once.  Prevents divide-by-zero errors\n",
    "                            )"
   ]
  },
  {
   "cell_type": "code",
   "execution_count": 38,
   "metadata": {
    "collapsed": true
   },
   "outputs": [],
   "source": [
    "auth_vectors = vectorizer.fit_transform(tweets_by_author['combined'])\n",
    "terms = vectorizer.get_feature_names()\n",
    "cluster_df = pd.DataFrame(auth_vectors.toarray(), index=names, columns=terms)"
   ]
  },
  {
   "cell_type": "markdown",
   "metadata": {},
   "source": [
    "### Re-run the clustering algorithms on the vectorized combined tweets"
   ]
  },
  {
   "cell_type": "code",
   "execution_count": 39,
   "metadata": {},
   "outputs": [
    {
     "data": {
      "text/plain": [
       "array([0, 0, 0, 0, 0, 0, 0, 0, 0, 0, 0, 0, 0, 0, 0])"
      ]
     },
     "execution_count": 39,
     "metadata": {},
     "output_type": "execute_result"
    }
   ],
   "source": [
    "ms.fit(normalize(cluster_df))\n",
    "ms.labels_"
   ]
  },
  {
   "cell_type": "code",
   "execution_count": 40,
   "metadata": {},
   "outputs": [
    {
     "name": "stdout",
     "output_type": "stream",
     "text": [
      "[(7, 289), (6, 278), (8, 271), (5, 136), (9, 26)]\n",
      "The optimal number of clusters is 7\n",
      "Cluster 0 comprises ['craigbrownphd', 'tamaradull']\n",
      "Cluster 1 comprises ['BernardMarr', 'EvanSinar']\n",
      "Cluster 2 comprises ['AndrewYNg', 'mrogati', 'naval', 'hmason']\n",
      "Cluster 3 comprises ['KirkDBorne', 'Ronald_vanLoon', 'kdnuggets']\n",
      "Cluster 4 comprises ['analyticbridge']\n",
      "Cluster 5 comprises ['BigDataGal']\n",
      "Cluster 6 comprises ['bobehayes', 'data_nerd']\n"
     ]
    }
   ],
   "source": [
    "clusters = []\n",
    "cluster_data = normalize(cluster_df)\n",
    "for _ in range(1000):\n",
    "    best_score = -999\n",
    "    num_labels = 0\n",
    "    for num_clusters in range(5, 10):\n",
    "        km = KMeans(num_clusters)\n",
    "        km.fit(cluster_data)\n",
    "        sil_score = silhouette_score(cluster_data, km.labels_)\n",
    "        if sil_score > best_score:\n",
    "            best_score = sil_score\n",
    "            num_labels = num_clusters\n",
    "    clusters.append(num_labels)\n",
    "\n",
    "optimal_num_clusters = Counter(clusters).most_common(1)[0][0]\n",
    "print(Counter(clusters).most_common())\n",
    "print('The optimal number of clusters is {}'.format(optimal_num_clusters))\n",
    "      \n",
    "best_labels1 = []\n",
    "best_score1 = -999\n",
    "centers1 = []\n",
    "\n",
    "for _ in range(1000):\n",
    "    km = KMeans(optimal_num_clusters)\n",
    "    km.fit(cluster_data)\n",
    "    sil_score = silhouette_score(cluster_data, km.labels_)\n",
    "    if sil_score > best_score1:\n",
    "        best_score1 = sil_score\n",
    "        best_labels1 = km.labels_\n",
    "        centers1 = km.cluster_centers_\n",
    "\n",
    "for i in range(optimal_num_clusters):\n",
    "    print('Cluster {} comprises {}'.format(i, [name for ix, name in enumerate(names) if best_labels1[ix] == i]))"
   ]
  },
  {
   "cell_type": "code",
   "execution_count": 41,
   "metadata": {},
   "outputs": [
    {
     "name": "stdout",
     "output_type": "stream",
     "text": [
      "Percent variance captured by all components:  37.0065018534\n",
      "Component 0:\n",
      "kdnuggets         0.491304\n",
      "BernardMarr       0.470505\n",
      "KirkDBorne        0.469460\n",
      "AndrewYNg         0.453781\n",
      "data_nerd         0.440996\n",
      "hmason            0.427634\n",
      "mrogati           0.426190\n",
      "tamaradull        0.400840\n",
      "bobehayes         0.358837\n",
      "naval             0.347496\n",
      "craigbrownphd     0.290169\n",
      "analyticbridge    0.278764\n",
      "Ronald_vanLoon    0.249605\n",
      "BigDataGal        0.244293\n",
      "EvanSinar         0.228506\n",
      "Name: 0, dtype: float64\n",
      "Component 1:\n",
      "KirkDBorne        0.576047\n",
      "kdnuggets         0.497440\n",
      "Ronald_vanLoon    0.274920\n",
      "bobehayes         0.201742\n",
      "BernardMarr       0.175465\n",
      "analyticbridge    0.125532\n",
      "EvanSinar         0.107659\n",
      "BigDataGal       -0.055732\n",
      "craigbrownphd    -0.079084\n",
      "data_nerd        -0.137469\n",
      "tamaradull       -0.164458\n",
      "AndrewYNg        -0.264794\n",
      "naval            -0.352711\n",
      "mrogati          -0.444565\n",
      "hmason           -0.473981\n",
      "Name: 1, dtype: float64\n",
      "Component 2:\n",
      "bobehayes         0.517187\n",
      "data_nerd         0.473918\n",
      "BigDataGal        0.425453\n",
      "tamaradull        0.323484\n",
      "craigbrownphd     0.141673\n",
      "EvanSinar         0.000815\n",
      "analyticbridge   -0.015976\n",
      "BernardMarr      -0.098645\n",
      "naval            -0.117102\n",
      "KirkDBorne       -0.167190\n",
      "AndrewYNg        -0.182140\n",
      "kdnuggets        -0.234987\n",
      "Ronald_vanLoon   -0.242198\n",
      "hmason           -0.256071\n",
      "mrogati          -0.308240\n",
      "Name: 2, dtype: float64\n",
      "Component 3:\n",
      "EvanSinar         0.450256\n",
      "BernardMarr       0.415336\n",
      "craigbrownphd     0.384158\n",
      "tamaradull        0.273333\n",
      "analyticbridge    0.202897\n",
      "naval             0.106206\n",
      "kdnuggets         0.008306\n",
      "AndrewYNg        -0.067967\n",
      "BigDataGal       -0.096337\n",
      "KirkDBorne       -0.190828\n",
      "mrogati          -0.198948\n",
      "data_nerd        -0.200852\n",
      "hmason           -0.203645\n",
      "Ronald_vanLoon   -0.332322\n",
      "bobehayes        -0.360951\n",
      "Name: 3, dtype: float64\n",
      "Component 4:\n",
      "analyticbridge    0.626798\n",
      "EvanSinar         0.264967\n",
      "BigDataGal        0.172338\n",
      "kdnuggets         0.139997\n",
      "hmason            0.128479\n",
      "mrogati           0.113165\n",
      "data_nerd         0.075664\n",
      "bobehayes         0.011229\n",
      "AndrewYNg        -0.057575\n",
      "KirkDBorne       -0.071097\n",
      "naval            -0.091214\n",
      "BernardMarr      -0.138053\n",
      "tamaradull       -0.251933\n",
      "Ronald_vanLoon   -0.391154\n",
      "craigbrownphd    -0.454742\n",
      "Name: 4, dtype: float64\n"
     ]
    }
   ],
   "source": [
    "# reduce feature space to 5 principal components and choose two with the greatest spread among authors for graphing\n",
    "svd = TruncatedSVD(5)\n",
    "cluster_lsa = svd.fit_transform(cluster_data)\n",
    "\n",
    "variance_explained=svd.explained_variance_ratio_\n",
    "total_variance = variance_explained.sum()\n",
    "print(\"Percent variance captured by all components: \", total_variance*100)\n",
    "\n",
    "authors_by_component = pd.DataFrame(cluster_lsa, index=names)\n",
    "for i in range(5):\n",
    "    print('Component {}:'.format(i))\n",
    "    print(authors_by_component.loc[:,i].sort_values(ascending=False)[0:15])"
   ]
  },
  {
   "cell_type": "code",
   "execution_count": 42,
   "metadata": {},
   "outputs": [
    {
     "data": {
      "text/plain": [
       "<matplotlib.legend.Legend at 0x11e11cfd0>"
      ]
     },
     "execution_count": 42,
     "metadata": {},
     "output_type": "execute_result"
    },
    {
     "data": {
      "image/png": "[encoded data removed]",
      "text/plain": [
       "<matplotlib.figure.Figure at 0x11df4e908>"
      ]
     },
     "metadata": {},
     "output_type": "display_data"
    }
   ],
   "source": [
    "authors_by_component['label'] = best_labels1\n",
    "cmap = sns.color_palette('cubehelix', 7)\n",
    "ax = sns.scatterplot(data=authors_by_component, x=1, y=4, hue='label', palette=cmap)\n",
    "ax.set_title('Clusters plotted against 2 of 5 principal components')\n",
    "ax.set_ylabel('lsa4')\n",
    "ax.set_xlabel('lsa1')\n",
    "plt.legend(bbox_to_anchor=(1.05, 1), loc=2, borderaxespad=0.)"
   ]
  },
  {
   "cell_type": "markdown",
   "metadata": {},
   "source": [
    "The clusters are fairly well segregated on a 2-component plot. Look for commonalities in the 10 highest-scoring terms for each author. "
   ]
  },
  {
   "cell_type": "code",
   "execution_count": 43,
   "metadata": {},
   "outputs": [
    {
     "data": {
      "text/html": [
       "<div>\n",
       "<style>\n",
       "    .dataframe thead tr:only-child th {\n",
       "        text-align: right;\n",
       "    }\n",
       "\n",
       "    .dataframe thead th {\n",
       "        text-align: left;\n",
       "    }\n",
       "\n",
       "    .dataframe tbody tr th {\n",
       "        vertical-align: top;\n",
       "    }\n",
       "</style>\n",
       "<table border=\"1\" class=\"dataframe\">\n",
       "  <thead>\n",
       "    <tr style=\"text-align: right;\">\n",
       "      <th></th>\n",
       "      <th>0</th>\n",
       "      <th>1</th>\n",
       "      <th>2</th>\n",
       "      <th>3</th>\n",
       "      <th>4</th>\n",
       "      <th>5</th>\n",
       "      <th>6</th>\n",
       "      <th>7</th>\n",
       "      <th>8</th>\n",
       "      <th>9</th>\n",
       "      <th>label</th>\n",
       "    </tr>\n",
       "  </thead>\n",
       "  <tbody>\n",
       "    <tr>\n",
       "      <th>craigbrownphd</th>\n",
       "      <td>huawei</td>\n",
       "      <td>5g</td>\n",
       "      <td>api</td>\n",
       "      <td>devops</td>\n",
       "      <td>dataanalytics</td>\n",
       "      <td>digitaltransformation</td>\n",
       "      <td>broadband</td>\n",
       "      <td>announced</td>\n",
       "      <td>honor</td>\n",
       "      <td>der</td>\n",
       "      <td>0</td>\n",
       "    </tr>\n",
       "    <tr>\n",
       "      <th>tamaradull</th>\n",
       "      <td>nytimes</td>\n",
       "      <td>emergingtech</td>\n",
       "      <td>techrepublic</td>\n",
       "      <td>forbes</td>\n",
       "      <td>sassoftware</td>\n",
       "      <td>smarthome</td>\n",
       "      <td>devices</td>\n",
       "      <td>opensource</td>\n",
       "      <td>writes</td>\n",
       "      <td>5g</td>\n",
       "      <td>0</td>\n",
       "    </tr>\n",
       "    <tr>\n",
       "      <th>BernardMarr</th>\n",
       "      <td>odsc</td>\n",
       "      <td>london</td>\n",
       "      <td>19th</td>\n",
       "      <td>keynote</td>\n",
       "      <td>speaker</td>\n",
       "      <td>leadership</td>\n",
       "      <td>talend</td>\n",
       "      <td>19</td>\n",
       "      <td>tickets</td>\n",
       "      <td>summit</td>\n",
       "      <td>1</td>\n",
       "    </tr>\n",
       "    <tr>\n",
       "      <th>EvanSinar</th>\n",
       "      <td>dataviz</td>\n",
       "      <td>leadership</td>\n",
       "      <td>hr</td>\n",
       "      <td>hranalytics</td>\n",
       "      <td>kdnuggets</td>\n",
       "      <td>storywithdata</td>\n",
       "      <td>central</td>\n",
       "      <td>visualizing</td>\n",
       "      <td>flowingdata</td>\n",
       "      <td>workplace</td>\n",
       "      <td>1</td>\n",
       "    </tr>\n",
       "    <tr>\n",
       "      <th>AndrewYNg</th>\n",
       "      <td>coursera</td>\n",
       "      <td>dl</td>\n",
       "      <td>stanford</td>\n",
       "      <td>conversational</td>\n",
       "      <td>moocs</td>\n",
       "      <td>nice</td>\n",
       "      <td>gpus</td>\n",
       "      <td>lets</td>\n",
       "      <td>nips2016</td>\n",
       "      <td>goodfellow_ian</td>\n",
       "      <td>2</td>\n",
       "    </tr>\n",
       "    <tr>\n",
       "      <th>mrogati</th>\n",
       "      <td>chrisalbon</td>\n",
       "      <td>peteskomoroch</td>\n",
       "      <td>congratulations</td>\n",
       "      <td>dtunkelang</td>\n",
       "      <td>arnicas</td>\n",
       "      <td>oh</td>\n",
       "      <td>deck</td>\n",
       "      <td>caitie</td>\n",
       "      <td>imo</td>\n",
       "      <td>hmason</td>\n",
       "      <td>2</td>\n",
       "    </tr>\n",
       "    <tr>\n",
       "      <th>naval</th>\n",
       "      <td>meditation</td>\n",
       "      <td>crypto</td>\n",
       "      <td>thread</td>\n",
       "      <td>listen</td>\n",
       "      <td>peace</td>\n",
       "      <td>awareness</td>\n",
       "      <td>investors</td>\n",
       "      <td>desire</td>\n",
       "      <td>meetings</td>\n",
       "      <td>moment</td>\n",
       "      <td>2</td>\n",
       "    </tr>\n",
       "    <tr>\n",
       "      <th>hmason</th>\n",
       "      <td>cloudera</td>\n",
       "      <td>fastforwardlabs</td>\n",
       "      <td>congratulations</td>\n",
       "      <td>happy</td>\n",
       "      <td>nyc</td>\n",
       "      <td>lol</td>\n",
       "      <td>mikeloukides</td>\n",
       "      <td>favorite</td>\n",
       "      <td>junior</td>\n",
       "      <td>amuellerml</td>\n",
       "      <td>2</td>\n",
       "    </tr>\n",
       "    <tr>\n",
       "      <th>KirkDBorne</th>\n",
       "      <td>datascientists</td>\n",
       "      <td>deeplearning</td>\n",
       "      <td>odsc</td>\n",
       "      <td>neuralnetworks</td>\n",
       "      <td>predictiveanalytics</td>\n",
       "      <td>coding</td>\n",
       "      <td>boozallen</td>\n",
       "      <td>west</td>\n",
       "      <td>rstats</td>\n",
       "      <td>datasciencectrl</td>\n",
       "      <td>3</td>\n",
       "    </tr>\n",
       "    <tr>\n",
       "      <th>Ronald_vanLoon</th>\n",
       "      <td>rt</td>\n",
       "      <td>cc</td>\n",
       "      <td>dl</td>\n",
       "      <td>deeplearning</td>\n",
       "      <td>digitaltransformation</td>\n",
       "      <td>internetofthings</td>\n",
       "      <td>infographics</td>\n",
       "      <td>videos</td>\n",
       "      <td>smartcity</td>\n",
       "      <td>iiot</td>\n",
       "      <td>3</td>\n",
       "    </tr>\n",
       "    <tr>\n",
       "      <th>kdnuggets</th>\n",
       "      <td>deeplearning</td>\n",
       "      <td>sep</td>\n",
       "      <td>cheat</td>\n",
       "      <td>kdnuggets</td>\n",
       "      <td>biases</td>\n",
       "      <td>odsc</td>\n",
       "      <td>scratch</td>\n",
       "      <td>sheet</td>\n",
       "      <td>datascientists</td>\n",
       "      <td>sheets</td>\n",
       "      <td>3</td>\n",
       "    </tr>\n",
       "    <tr>\n",
       "      <th>analyticbridge</th>\n",
       "      <td>conventional</td>\n",
       "      <td>statistical</td>\n",
       "      <td>posted</td>\n",
       "      <td>blogs</td>\n",
       "      <td>excel</td>\n",
       "      <td>cheat</td>\n",
       "      <td>logistic</td>\n",
       "      <td>qualitative</td>\n",
       "      <td>classification</td>\n",
       "      <td>comparison</td>\n",
       "      <td>4</td>\n",
       "    </tr>\n",
       "    <tr>\n",
       "      <th>BigDataGal</th>\n",
       "      <td>womenintech</td>\n",
       "      <td>callforcode</td>\n",
       "      <td>keyboard</td>\n",
       "      <td>coding</td>\n",
       "      <td>professional</td>\n",
       "      <td>biz</td>\n",
       "      <td>clarify</td>\n",
       "      <td>portfolio</td>\n",
       "      <td>exec</td>\n",
       "      <td>tag</td>\n",
       "      <td>5</td>\n",
       "    </tr>\n",
       "    <tr>\n",
       "      <th>bobehayes</th>\n",
       "      <td>customerexperience</td>\n",
       "      <td>ibmanalytics</td>\n",
       "      <td>sassoftware</td>\n",
       "      <td>analyticsx</td>\n",
       "      <td>callforcode</td>\n",
       "      <td>ibmwatson</td>\n",
       "      <td>cx</td>\n",
       "      <td>winwithai</td>\n",
       "      <td>data_nerd</td>\n",
       "      <td>cspenn</td>\n",
       "      <td>6</td>\n",
       "    </tr>\n",
       "    <tr>\n",
       "      <th>data_nerd</th>\n",
       "      <td>thecube</td>\n",
       "      <td>tmanspeaks</td>\n",
       "      <td>siliconangle</td>\n",
       "      <td>happy</td>\n",
       "      <td>psb_dc</td>\n",
       "      <td>zdnet</td>\n",
       "      <td>digitalcloudgal</td>\n",
       "      <td>datachick</td>\n",
       "      <td>youtube</td>\n",
       "      <td>wishes</td>\n",
       "      <td>6</td>\n",
       "    </tr>\n",
       "  </tbody>\n",
       "</table>\n",
       "</div>"
      ],
      "text/plain": [
       "                                 0                1                2  \\\n",
       "craigbrownphd               huawei               5g              api   \n",
       "tamaradull                 nytimes     emergingtech     techrepublic   \n",
       "BernardMarr                   odsc           london             19th   \n",
       "EvanSinar                  dataviz       leadership               hr   \n",
       "AndrewYNg                 coursera               dl         stanford   \n",
       "mrogati                 chrisalbon    peteskomoroch  congratulations   \n",
       "naval                   meditation           crypto           thread   \n",
       "hmason                    cloudera  fastforwardlabs  congratulations   \n",
       "KirkDBorne          datascientists     deeplearning             odsc   \n",
       "Ronald_vanLoon                  rt               cc               dl   \n",
       "kdnuggets             deeplearning              sep            cheat   \n",
       "analyticbridge        conventional      statistical           posted   \n",
       "BigDataGal             womenintech      callforcode         keyboard   \n",
       "bobehayes       customerexperience     ibmanalytics      sassoftware   \n",
       "data_nerd                  thecube       tmanspeaks     siliconangle   \n",
       "\n",
       "                             3                      4                      5  \\\n",
       "craigbrownphd           devops          dataanalytics  digitaltransformation   \n",
       "tamaradull              forbes            sassoftware              smarthome   \n",
       "BernardMarr            keynote                speaker             leadership   \n",
       "EvanSinar          hranalytics              kdnuggets          storywithdata   \n",
       "AndrewYNg       conversational                  moocs                   nice   \n",
       "mrogati             dtunkelang                arnicas                     oh   \n",
       "naval                   listen                  peace              awareness   \n",
       "hmason                   happy                    nyc                    lol   \n",
       "KirkDBorne      neuralnetworks    predictiveanalytics                 coding   \n",
       "Ronald_vanLoon    deeplearning  digitaltransformation       internetofthings   \n",
       "kdnuggets            kdnuggets                 biases                   odsc   \n",
       "analyticbridge           blogs                  excel                  cheat   \n",
       "BigDataGal              coding           professional                    biz   \n",
       "bobehayes           analyticsx            callforcode              ibmwatson   \n",
       "data_nerd                happy                 psb_dc                  zdnet   \n",
       "\n",
       "                              6            7               8                9  \\\n",
       "craigbrownphd         broadband    announced           honor              der   \n",
       "tamaradull              devices   opensource          writes               5g   \n",
       "BernardMarr              talend           19         tickets           summit   \n",
       "EvanSinar               central  visualizing     flowingdata        workplace   \n",
       "AndrewYNg                  gpus         lets        nips2016   goodfellow_ian   \n",
       "mrogati                    deck       caitie             imo           hmason   \n",
       "naval                 investors       desire        meetings           moment   \n",
       "hmason             mikeloukides     favorite          junior       amuellerml   \n",
       "KirkDBorne            boozallen         west          rstats  datasciencectrl   \n",
       "Ronald_vanLoon     infographics       videos       smartcity             iiot   \n",
       "kdnuggets               scratch        sheet  datascientists           sheets   \n",
       "analyticbridge         logistic  qualitative  classification       comparison   \n",
       "BigDataGal              clarify    portfolio            exec              tag   \n",
       "bobehayes                    cx    winwithai       data_nerd           cspenn   \n",
       "data_nerd       digitalcloudgal    datachick         youtube           wishes   \n",
       "\n",
       "                label  \n",
       "craigbrownphd       0  \n",
       "tamaradull          0  \n",
       "BernardMarr         1  \n",
       "EvanSinar           1  \n",
       "AndrewYNg           2  \n",
       "mrogati             2  \n",
       "naval               2  \n",
       "hmason              2  \n",
       "KirkDBorne          3  \n",
       "Ronald_vanLoon      3  \n",
       "kdnuggets           3  \n",
       "analyticbridge      4  \n",
       "BigDataGal          5  \n",
       "bobehayes           6  \n",
       "data_nerd           6  "
      ]
     },
     "execution_count": 43,
     "metadata": {},
     "output_type": "execute_result"
    }
   ],
   "source": [
    "words = cluster_df.T\n",
    "groupings = pd.DataFrame(index=names, columns=range(10))\n",
    "for name in names:\n",
    "    groupings.loc[name, :] = words[name].sort_values(ascending=False)[0:10].index\n",
    "groupings['label'] = best_labels1\n",
    "groupings.sort_values(by='label')"
   ]
  },
  {
   "cell_type": "markdown",
   "metadata": {},
   "source": [
    "It's hard to see much in common among the members of each cluster, but the two cluster 6 autors have a shared interest in 5g and applied tech in general. Both members of cluster 1 talk about leadership, and all three authors in cluster 3 highlight deep learning. The other groups have no obvious commonalities among members (clusters 2 and 6) or are individuals (clusters 4 and 5)."
   ]
  },
  {
   "cell_type": "markdown",
   "metadata": {},
   "source": [
    "Look for words closest to the centroid of each cluster that score as high-impact words for cluster members, and see which of these words all members have in common."
   ]
  },
  {
   "cell_type": "code",
   "execution_count": 44,
   "metadata": {
    "scrolled": true
   },
   "outputs": [
    {
     "name": "stdout",
     "output_type": "stream",
     "text": [
      "High-impact words close to the centroid and common to all members in each cluster\n",
      "\n",
      "\n",
      "Cluster 0:\n",
      "\n",
      " ['5g', 'announced', 'edgecomputing', 'oracle', 'private'] \n",
      "\n",
      "\n",
      "Cluster 1:\n",
      "\n",
      " ['leadership', 'workplace'] \n",
      "\n",
      "\n",
      "Cluster 2:\n",
      "\n",
      " ['favorite', 'tweet', 'maybe'] \n",
      "\n",
      "\n",
      "Cluster 3:\n",
      "\n",
      " ['deeplearning', 'neuralnetworks'] \n",
      "\n",
      "\n",
      "Cluster 4:\n",
      "\n",
      " ['conventional', 'statistical', 'posted', 'blogs', 'excel', 'cheat', 'logistic', 'qualitative', 'classification', 'comparison', 'sheet', 'trees', 'handbook', 'shiny', 'apache', 'linear', 'mistakes', 'simplified', 'tests', 'clustering'] \n",
      "\n",
      "\n",
      "Cluster 5:\n",
      "\n",
      " ['womenintech', 'callforcode', 'keyboard', 'coding', 'professional', 'biz', 'clarify', 'portfolio', 'tag', 'exec', 'sponsor', 'shirts', 'retro', 'greatly', '22', 'enter', 'dummies', 'incl', 'celebrate', 'ya'] \n",
      "\n",
      "\n",
      "Cluster 6:\n",
      "\n",
      " ['ibmanalytics', 'tmanspeaks', 'thecube', 'winwithai', 'psb_dc', 'datachick', 'kevin_jackson', 'cspenn', 'sardire', 'ht', 'mclynd', 'nyc', 'angelalipscomb', 'womenintech', 'majority'] \n",
      "\n",
      "\n"
     ]
    }
   ],
   "source": [
    "centroids1 = centers1.argsort()[:, ::-1] \n",
    "words_df = pd.DataFrame(cluster_data, index=names, columns=terms)\n",
    "print('High-impact words close to the centroid and common to all members in each cluster\\n\\n')\n",
    "for i in range(optimal_num_clusters):\n",
    "    print('Cluster {}:'.format(i))\n",
    "    people = [name for name in names if groupings.loc[name, 'label'] == i]\n",
    "    words = []\n",
    "    for ind in centroids1[i]:\n",
    "        word = terms[ind]\n",
    "        common = True\n",
    "        for person in people:\n",
    "            if words_df.loc[person, word] <= 0.03: # the .03 threshold was obtained by trying various values\n",
    "                common = False\n",
    "                break\n",
    "        if common == True:\n",
    "            words.append(word)\n",
    "        if len(words) == 20:\n",
    "            break\n",
    "    print('\\n', words, '\\n\\n')"
   ]
  },
  {
   "cell_type": "markdown",
   "metadata": {},
   "source": [
    "This programmatic analysis of the intra-group comonalities confirms and expands the insights from visual inspection of the top 10 words for each author.\n",
    "- The cluster 0 authors shared 'edgecomputing' as well as '5g,' but also 'oracle,' enterprise software. These seem to suggest an applications-oriented focus.\n",
    "- The cluster 1 authors both used the terms 'leadership' and 'workplace,' showing perhaps a shared interest in management.\n",
    "- The words from cluster 2 reveal no common topic of interest, but these are the authors who used few or no hashtags and mentions. So there is a logic to the grouping.\n",
    "- For cluster 3, the authors had 'neuralnetworks' as well as 'deeplearning' in common, strengthening the topical bond.\n",
    "- Clusters 4 and 5, individuals, have large numbers of words, because neither has another person to filter for common words.\n",
    "- Unexpectedly, the cluster 6 authors share many terms in common. Rather than topics, however, they seem to comprise mostly mentions and groups, suggesting these authors have overlapping work and/or social networks."
   ]
  },
  {
   "cell_type": "markdown",
   "metadata": {},
   "source": [
    "*__It should be noted__*, however, that a number of the common influential \"words\" are joined phrases, indicating that they likely were hashtags (or mentions). This contaminates the results, since, for instance, any number of authors might have written about 'deep learning,' even to the point where 'deep' and 'learning' on their own ended up with very low scores, or maybe were even excluded because they occurred too frequently. This seems an intractable problem with the tf-idf approach employed. A bag-of-words approach would have the converse problem. "
   ]
  },
  {
   "cell_type": "markdown",
   "metadata": {},
   "source": [
    "The thematic topic(s) of each cluster can be analyzed by looking at the terms closest to its centroid, regardless of which members used those terms or had them in common."
   ]
  },
  {
   "cell_type": "code",
   "execution_count": 45,
   "metadata": {},
   "outputs": [
    {
     "name": "stdout",
     "output_type": "stream",
     "text": [
      "Words closest to the centroid of each cluster\n",
      "\n",
      "\n",
      "Cluster 0:\n",
      "['huawei', '5g', 'nytimes', 'techrepublic', 'emergingtech', 'forbes', 'api', 'sassoftware', 'devops', 'dataanalytics'] \n",
      "\n",
      "\n",
      "Cluster 1:\n",
      "['leadership', 'dataviz', 'odsc', 'london', 'hr', '19th', 'keynote', 'speaker', 'hranalytics', 'workplace'] \n",
      "\n",
      "\n",
      "Cluster 2:\n",
      "['congratulations', 'chrisalbon', 'coursera', 'cloudera', 'happy', 'peteskomoroch', 'fastforwardlabs', 'stanford', 'favorite', 'dl'] \n",
      "\n",
      "\n",
      "Cluster 3:\n",
      "['deeplearning', 'datascientists', 'rt', 'cc', 'odsc', 'neuralnetworks', 'sep', 'cheat', 'digitaltransformation', 'kdnuggets'] \n",
      "\n",
      "\n",
      "Cluster 4:\n",
      "['conventional', 'statistical', 'posted', 'blogs', 'excel', 'cheat', 'logistic', 'qualitative', 'classification', 'comparison'] \n",
      "\n",
      "\n",
      "Cluster 5:\n",
      "['womenintech', 'callforcode', 'keyboard', 'coding', 'professional', 'biz', 'clarify', 'portfolio', 'tag', 'exec'] \n",
      "\n",
      "\n",
      "Cluster 6:\n",
      "['customerexperience', 'ibmanalytics', 'tmanspeaks', 'thecube', 'winwithai', 'psb_dc', 'sassoftware', 'analyticsx', 'callforcode', 'datachick'] \n",
      "\n",
      "\n"
     ]
    }
   ],
   "source": [
    "print('Words closest to the centroid of each cluster\\n\\n')\n",
    "for i in range(optimal_num_clusters):\n",
    "    print('Cluster {}:'.format(i))\n",
    "    words = [terms[ind] for ind in centroids1[i][:10]]\n",
    "    print(words, '\\n\\n')"
   ]
  },
  {
   "cell_type": "markdown",
   "metadata": {},
   "source": [
    "These results solidify the already established themes. Cluster 1 has 'hr' and 'hranalytics,' in addition to 'leadership' and 'workplace,' further emphasizing management concerns, but it also has 'odsc,' 'london,' '19,' 'keynote' and 'speaker,' suggesting the two authors in this group were strongly involved with the ODSC Europe conference held Sept. 19-22 this year in London. For cluster 3, 'datascientists,' 'digitaltransformation' and 'kdnuggets' extend the AI/machine learning emphasis of deep learning and neural networks. Similarly, 'emergingtech,' 'sassoftware,' 'dataanalytics' and 'devops' fit with the cluster 6 emphasis on applied data science and emerging technologies. The fact that there is little overlap between the central terms of clusters 2 and 6 and the high-scoring terms of their members supports the idea that the connections here have more to do with things beside topical content — low use of hashtags and mentions for cluster 2 and network relationships for cluster 6. "
   ]
  },
  {
   "cell_type": "code",
   "execution_count": 46,
   "metadata": {},
   "outputs": [
    {
     "name": "stdout",
     "output_type": "stream",
     "text": [
      "[1 1 0 1 0 2 1 1 1 1 3 3 0 1 1] \n",
      "\n",
      "Cluster 0 comprises ['craigbrownphd', 'BernardMarr', 'tamaradull']\n",
      "Cluster 1 comprises ['KirkDBorne', 'Ronald_vanLoon', 'bobehayes', 'AndrewYNg', 'mrogati', 'data_nerd', 'kdnuggets', 'hmason', 'EvanSinar']\n",
      "Cluster 2 comprises ['BigDataGal']\n",
      "Cluster 3 comprises ['analyticbridge', 'naval']\n",
      "Cluster 4 comprises []\n",
      "Cluster 5 comprises []\n",
      "Cluster 6 comprises []\n"
     ]
    }
   ],
   "source": [
    "sc = SpectralClustering(n_clusters=optimal_num_clusters)\n",
    "\n",
    "best_score = -999\n",
    "best_sc_labels = []\n",
    "for _ in range(1000):\n",
    "    sc.fit(cluster_data)\n",
    "    sil_score = silhouette_score(cluster_data, sc.labels_)\n",
    "    if sil_score > best_score:\n",
    "        best_score = sil_score\n",
    "        best_sc_labels = sc.labels_\n",
    "\n",
    "\n",
    "print(sc_labels, '\\n')\n",
    "for i in range(7):\n",
    "    print('Cluster {} comprises {}'.format(i, [name for ix, name in enumerate(names) if sc_labels[ix] == i]))"
   ]
  },
  {
   "cell_type": "markdown",
   "metadata": {},
   "source": [
    "These results are not as observably coherent as those from K-Means."
   ]
  },
  {
   "cell_type": "markdown",
   "metadata": {},
   "source": [
    "## Classification"
   ]
  },
  {
   "cell_type": "code",
   "execution_count": 47,
   "metadata": {
    "collapsed": true
   },
   "outputs": [],
   "source": [
    "X_train, X_test, y_train, y_test = train_test_split(tweets_df['text'], tweets_df['author'], test_size=0.4,\n",
    "                                                    random_state=0, stratify=tweets_df['author'])\n",
    "\n",
    "\n",
    "# apply the vectorizer, but don't fit on the test set to prevent data leakage\n",
    "X_train_tfidf = vectorizer.fit_transform(X_train)\n",
    "X_test_tfidf = vectorizer.transform(X_test)"
   ]
  },
  {
   "cell_type": "code",
   "execution_count": 48,
   "metadata": {
    "collapsed": true
   },
   "outputs": [],
   "source": [
    "from sklearn.ensemble import RandomForestClassifier, AdaBoostClassifier, GradientBoostingClassifier\n",
    "from sklearn.tree import DecisionTreeClassifier\n",
    "from sklearn.linear_model import LogisticRegression\n",
    "from sklearn.neighbors import KNeighborsClassifier\n",
    "from sklearn.metrics import matthews_corrcoef\n",
    "from sklearn.metrics import make_scorer\n",
    "from sklearn.model_selection import cross_val_score\n",
    "\n",
    "mcc_scorer = make_scorer(matthews_corrcoef)"
   ]
  },
  {
   "cell_type": "markdown",
   "metadata": {},
   "source": [
    "Evaluate performance with cross-validation scoring of the basic estimators, using the Matthews correlation coefficient, which uses all the metrics from the confusion matrix. See if classification into clusters (7 classes) produces significantly better results thn classifying by individual authors (15 classes)."
   ]
  },
  {
   "cell_type": "code",
   "execution_count": 49,
   "metadata": {},
   "outputs": [
    {
     "name": "stdout",
     "output_type": "stream",
     "text": [
      "[ 0.5419232   0.51588779  0.50876316  0.45440965]\n"
     ]
    }
   ],
   "source": [
    "rfc = RandomForestClassifier(max_depth=20)\n",
    "\n",
    "print(cross_val_score(rfc, X_train_tfidf, y_train, scoring=mcc_scorer, cv=4))"
   ]
  },
  {
   "cell_type": "code",
   "execution_count": 50,
   "metadata": {},
   "outputs": [
    {
     "name": "stdout",
     "output_type": "stream",
     "text": [
      "0.496748816444\n"
     ]
    }
   ],
   "source": [
    "rfc.fit(X_train_tfidf, y_train)\n",
    "print(matthews_corrcoef(y_test, rfc.predict(X_test_tfidf)))"
   ]
  },
  {
   "cell_type": "code",
   "execution_count": 51,
   "metadata": {
    "collapsed": true
   },
   "outputs": [],
   "source": [
    "# create cluster targets\n",
    "\n",
    "groupings = dict(zip(names, best_labels))\n",
    "y_groupings_train = y_train.apply(lambda x: groupings[x])\n",
    "y_groupings_test = y_test.apply(lambda x: groupings[x])"
   ]
  },
  {
   "cell_type": "code",
   "execution_count": 52,
   "metadata": {},
   "outputs": [
    {
     "name": "stdout",
     "output_type": "stream",
     "text": [
      "[ 0.51548663  0.53331916  0.52536779  0.5431819 ]\n"
     ]
    }
   ],
   "source": [
    "print(cross_val_score(rfc, X_train_tfidf, y_groupings_train, scoring=mcc_scorer, cv=4))"
   ]
  },
  {
   "cell_type": "code",
   "execution_count": 53,
   "metadata": {},
   "outputs": [
    {
     "name": "stdout",
     "output_type": "stream",
     "text": [
      "[ 0.60385118  0.62112717  0.59365945  0.62238917]\n"
     ]
    }
   ],
   "source": [
    "gbc = GradientBoostingClassifier()\n",
    "\n",
    "print(cross_val_score(gbc, X_train_tfidf, y_train, scoring=mcc_scorer, cv=4))"
   ]
  },
  {
   "cell_type": "code",
   "execution_count": 54,
   "metadata": {},
   "outputs": [
    {
     "name": "stdout",
     "output_type": "stream",
     "text": [
      "[ 0.6401194   0.64830868  0.63648676  0.66796964]\n"
     ]
    }
   ],
   "source": [
    "print(cross_val_score(gbc, X_train_tfidf, y_groupings_train, scoring=mcc_scorer, cv=4))"
   ]
  },
  {
   "cell_type": "code",
   "execution_count": 55,
   "metadata": {},
   "outputs": [
    {
     "name": "stdout",
     "output_type": "stream",
     "text": [
      "[ 0.63869872  0.64720024  0.64028847  0.66333377]\n"
     ]
    }
   ],
   "source": [
    "lrc = LogisticRegression()\n",
    "\n",
    "print(cross_val_score(lrc, X_train_tfidf, y_train, scoring=mcc_scorer, cv=4))"
   ]
  },
  {
   "cell_type": "code",
   "execution_count": 56,
   "metadata": {},
   "outputs": [
    {
     "name": "stdout",
     "output_type": "stream",
     "text": [
      "[ 0.65285871  0.65925926  0.63278073  0.67369085]\n"
     ]
    }
   ],
   "source": [
    "print(cross_val_score(lrc, X_train_tfidf, y_groupings_train, scoring=mcc_scorer, cv=4))"
   ]
  },
  {
   "cell_type": "code",
   "execution_count": 130,
   "metadata": {},
   "outputs": [
    {
     "name": "stdout",
     "output_type": "stream",
     "text": [
      "[ 0.11053891  0.10018566  0.10115338  0.0846241 ]\n"
     ]
    }
   ],
   "source": [
    "knc = KNeighborsClassifier(n_neighbors=10) # data needs to be normalized for best results\n",
    "\n",
    "print(cross_val_score(knc, normalize(X_train_tfidf), y_train, scoring=mcc_scorer, cv=4))"
   ]
  },
  {
   "cell_type": "code",
   "execution_count": 58,
   "metadata": {},
   "outputs": [
    {
     "name": "stdout",
     "output_type": "stream",
     "text": [
      "[ 0.54793413  0.55780711  0.52335536  0.53606411]\n"
     ]
    }
   ],
   "source": [
    "ada_rf = AdaBoostClassifier(rfc)\n",
    "\n",
    "print(cross_val_score(ada_rf, X_train_tfidf, y_train, scoring=mcc_scorer, cv=4))"
   ]
  },
  {
   "cell_type": "code",
   "execution_count": 59,
   "metadata": {},
   "outputs": [
    {
     "name": "stdout",
     "output_type": "stream",
     "text": [
      "[ 0.58022999  0.59000165  0.58090456  0.60682544]\n"
     ]
    }
   ],
   "source": [
    "ada_lr = AdaBoostClassifier(lrc)\n",
    "print(cross_val_score(ada_lr, X_train_tfidf, y_train, scoring=mcc_scorer, cv=4))"
   ]
  },
  {
   "cell_type": "markdown",
   "metadata": {},
   "source": [
    "Using cluster labels instead of individuals as the targets did not significantly improve the results, despite reducing the number of classes by half. The one exception to this was with gradient boosting, where the score increased by about 10%. Does it overfit?"
   ]
  },
  {
   "cell_type": "code",
   "execution_count": 60,
   "metadata": {},
   "outputs": [
    {
     "name": "stdout",
     "output_type": "stream",
     "text": [
      "0.631573712769\n"
     ]
    }
   ],
   "source": [
    "gbc.fit(X_train_tfidf, y_train)\n",
    "print(matthews_corrcoef(y_test, gbc.predict(X_test_tfidf)))"
   ]
  },
  {
   "cell_type": "code",
   "execution_count": 61,
   "metadata": {},
   "outputs": [
    {
     "name": "stdout",
     "output_type": "stream",
     "text": [
      "0.67109575709\n"
     ]
    }
   ],
   "source": [
    "gbc.fit(X_train_tfidf, y_groupings_train)\n",
    "print(matthews_corrcoef(y_groupings_test, gbc.predict(X_test_tfidf)))"
   ]
  },
  {
   "cell_type": "markdown",
   "metadata": {},
   "source": [
    "Gradient boosting is not overfitting. How about logistic regression, which had similar performance? "
   ]
  },
  {
   "cell_type": "code",
   "execution_count": 62,
   "metadata": {},
   "outputs": [
    {
     "name": "stdout",
     "output_type": "stream",
     "text": [
      "0.671881694562\n"
     ]
    }
   ],
   "source": [
    "lrc.fit(X_train_tfidf, y_train)\n",
    "print(matthews_corrcoef(y_test, lrc.predict(X_test_tfidf)))"
   ]
  },
  {
   "cell_type": "code",
   "execution_count": 63,
   "metadata": {},
   "outputs": [
    {
     "name": "stdout",
     "output_type": "stream",
     "text": [
      "0.707109887711\n"
     ]
    }
   ],
   "source": [
    "lrc.fit(X_train_tfidf, y_groupings_train)\n",
    "print(matthews_corrcoef(y_groupings_test, lrc.predict(X_test_tfidf)))"
   ]
  },
  {
   "cell_type": "markdown",
   "metadata": {},
   "source": [
    "Neither of the two best-performing algorithms is overfitting, but logistic regression is performing better with both target sets. See if lemmatizing the tweets improves performance"
   ]
  },
  {
   "cell_type": "code",
   "execution_count": 64,
   "metadata": {
    "collapsed": true
   },
   "outputs": [],
   "source": [
    "import spacy\n",
    "nlp = spacy.load('en_core_web_md')"
   ]
  },
  {
   "cell_type": "code",
   "execution_count": 65,
   "metadata": {
    "collapsed": true
   },
   "outputs": [],
   "source": [
    "def tokenize(input):\n",
    "    tokens = nlp(input)\n",
    "    output = [token.lemma_ for token in tokens\n",
    "              if token.lemma_ not in ['#', \",'\", ',\"', \".'\", '.\"', \"?'\", '?\"']\n",
    "              and not (token.is_punct and len(token.lemma_) == 1) # keep two-character emoticons, e.g. :) or ;) \n",
    "              and not token.is_stop]\n",
    "    return ' '.join(output).strip()"
   ]
  },
  {
   "cell_type": "code",
   "execution_count": 66,
   "metadata": {
    "collapsed": true
   },
   "outputs": [],
   "source": [
    "X_train_tokenized = X_train.apply(tokenize)\n",
    "X_test_tokenized = X_test.apply(tokenize)"
   ]
  },
  {
   "cell_type": "code",
   "execution_count": 67,
   "metadata": {
    "collapsed": true
   },
   "outputs": [],
   "source": [
    "X_train_tok_tfidf = vectorizer.fit_transform(X_train_tokenized)\n",
    "X_test_tok_tfidf = vectorizer.transform(X_test_tokenized)"
   ]
  },
  {
   "cell_type": "code",
   "execution_count": 68,
   "metadata": {},
   "outputs": [
    {
     "name": "stdout",
     "output_type": "stream",
     "text": [
      "[ 0.63302328  0.63978736  0.65983682  0.66226785]\n"
     ]
    }
   ],
   "source": [
    "print(cross_val_score(lrc, X_train_tok_tfidf, y_train, scoring=mcc_scorer, cv=4))"
   ]
  },
  {
   "cell_type": "code",
   "execution_count": 69,
   "metadata": {},
   "outputs": [
    {
     "name": "stdout",
     "output_type": "stream",
     "text": [
      "[ 0.63929619  0.67186801  0.6293594   0.6746033 ]\n"
     ]
    }
   ],
   "source": [
    "print(cross_val_score(lrc, X_train_tok_tfidf, y_groupings_train, scoring=mcc_scorer, cv=4))"
   ]
  },
  {
   "cell_type": "code",
   "execution_count": 70,
   "metadata": {},
   "outputs": [
    {
     "name": "stdout",
     "output_type": "stream",
     "text": [
      "[ 0.6201313   0.58982871  0.58878186  0.63955784]\n"
     ]
    }
   ],
   "source": [
    "print(cross_val_score(gbc, X_train_tok_tfidf, y_train, scoring=mcc_scorer, cv=4))"
   ]
  },
  {
   "cell_type": "code",
   "execution_count": 71,
   "metadata": {},
   "outputs": [
    {
     "name": "stdout",
     "output_type": "stream",
     "text": [
      "[ 0.60591849  0.64569305  0.63110112  0.6657258 ]\n"
     ]
    }
   ],
   "source": [
    "print(cross_val_score(gbc, X_train_tok_tfidf, y_groupings_train, scoring=mcc_scorer, cv=4))"
   ]
  },
  {
   "cell_type": "markdown",
   "metadata": {},
   "source": [
    "No significant improvement, and the cross-eval scores for gradient boosting are a little less consistent. At this point, I will choose logistic regression over gradient boosting, because its performance is better and more consistent, and gradient boosting consumes much more compute resources, taking orders of magnitude longer.\n",
    "\n",
    "See if adding bigrams improves performance."
   ]
  },
  {
   "cell_type": "code",
   "execution_count": 72,
   "metadata": {},
   "outputs": [
    {
     "data": {
      "text/plain": [
       "4506"
      ]
     },
     "execution_count": 72,
     "metadata": {},
     "output_type": "execute_result"
    }
   ],
   "source": [
    "len(terms)"
   ]
  },
  {
   "cell_type": "code",
   "execution_count": 73,
   "metadata": {
    "collapsed": true
   },
   "outputs": [],
   "source": [
    "vectorizer2 = TfidfVectorizer(ngram_range=(1,2), \n",
    "                              max_df=0.5, # drop words that occur in more than half the paragraphs\n",
    "                              min_df=2, # only use words that appear at least twice\n",
    "                              max_features=6000, # increase to ensure that at least the 1,500 highest-scoring bigrams are used\n",
    "                              stop_words='english', \n",
    "                              lowercase=True, #convert everything to lower case (since Alice in Wonderland has the HABIT of CAPITALIZING WORDS for EMPHASIS)\n",
    "                              use_idf=True,#we definitely want to use inverse document frequencies in our weighting\n",
    "                              norm=u'l2', #Applies a correction factor so that longer paragraphs and shorter paragraphs get treated equally\n",
    "                              smooth_idf=True #Adds 1 to all document frequencies, as if an extra document existed that used every word once.  Prevents divide-by-zero errors\n",
    "                             )"
   ]
  },
  {
   "cell_type": "code",
   "execution_count": 74,
   "metadata": {
    "collapsed": true
   },
   "outputs": [],
   "source": [
    "X_train_tfidf2 = vectorizer2.fit_transform(X_train)\n",
    "X_test_tfidf2 = vectorizer2.transform(X_test)"
   ]
  },
  {
   "cell_type": "code",
   "execution_count": 75,
   "metadata": {},
   "outputs": [
    {
     "name": "stdout",
     "output_type": "stream",
     "text": [
      "[ 0.63745287  0.64613577  0.64399704  0.66797534]\n"
     ]
    }
   ],
   "source": [
    "print(cross_val_score(lrc, X_train_tfidf2, y_train, scoring=mcc_scorer, cv=4))"
   ]
  },
  {
   "cell_type": "code",
   "execution_count": 76,
   "metadata": {},
   "outputs": [
    {
     "name": "stdout",
     "output_type": "stream",
     "text": [
      "[ 0.64740466  0.65438814  0.64471204  0.67210193]\n"
     ]
    }
   ],
   "source": [
    "print(cross_val_score(lrc, X_train_tfidf2, y_groupings_train, scoring=mcc_scorer, cv=4))"
   ]
  },
  {
   "cell_type": "markdown",
   "metadata": {},
   "source": [
    "Neither tokenization nor adding bigrams significantly improved performance, so tune the hyperparameters for logistic regression on the basic tf-idf data."
   ]
  },
  {
   "cell_type": "code",
   "execution_count": 77,
   "metadata": {
    "collapsed": true
   },
   "outputs": [],
   "source": [
    "lrc_params = [{'penalty': ['l1', 'l2'], 'tol': [1e-4, 1e-3, 1e-2], 'C': [3, 5, 7, 10],\n",
    "               'solver': ['liblinear'], 'multi_class': ['ovr']},\n",
    "              { 'penalty': ['l2'], 'tol': [1e-4, 1e-3, 1e-2], 'C': [3, 5, 7, 10],\n",
    "               'solver': ['newton-cg', 'lbfgs'], 'multi_class': ['ovr', 'multinomial']}]"
   ]
  },
  {
   "cell_type": "code",
   "execution_count": 78,
   "metadata": {
    "collapsed": true
   },
   "outputs": [],
   "source": [
    "from sklearn.model_selection import GridSearchCV\n",
    "from sklearn.metrics import f1_score"
   ]
  },
  {
   "cell_type": "code",
   "execution_count": 79,
   "metadata": {
    "collapsed": true
   },
   "outputs": [],
   "source": [
    "def optimize(rand, X=tweets_df['text'], Y=tweets_df['author'], transformer=None,\n",
    "             clf=lrc, params=lrc_params, t_size=0.4):\n",
    "    X_train, X_test, Y_train, Y_test = train_test_split(X, Y, test_size=t_size, random_state=rand, stratify=Y)\n",
    "    if transformer:\n",
    "        X_train = transformer.fit_transform(X_train)\n",
    "        X_test = transformer.transform(X_test)\n",
    "    model = GridSearchCV(clf, param_grid=params, scoring=mcc_scorer)\n",
    "    model.fit(X_train, Y_train)\n",
    "    print('Optimal parameters: {}'.format(model.best_params_))\n",
    "    preds = model.predict(X_test)\n",
    "    print('Matthews score: {}'.format(matthews_corrcoef(Y_test, preds)))\n",
    "    return model"
   ]
  },
  {
   "cell_type": "code",
   "execution_count": 80,
   "metadata": {},
   "outputs": [
    {
     "name": "stdout",
     "output_type": "stream",
     "text": [
      "Optimal parameters: {'C': 5, 'multi_class': 'ovr', 'penalty': 'l2', 'solver': 'liblinear', 'tol': 0.01}\n",
      "Matthews score: 0.6895957737101615\n"
     ]
    }
   ],
   "source": [
    "opt1 = optimize(rand=7, transformer=vectorizer)"
   ]
  },
  {
   "cell_type": "code",
   "execution_count": 81,
   "metadata": {},
   "outputs": [
    {
     "name": "stdout",
     "output_type": "stream",
     "text": [
      "Optimal parameters: {'C': 5, 'multi_class': 'ovr', 'penalty': 'l2', 'solver': 'liblinear', 'tol': 0.01}\n",
      "Matthews score: 0.6856909270155424\n"
     ]
    }
   ],
   "source": [
    "opt2 = optimize(rand=29, transformer=vectorizer)"
   ]
  },
  {
   "cell_type": "code",
   "execution_count": 82,
   "metadata": {},
   "outputs": [
    {
     "name": "stdout",
     "output_type": "stream",
     "text": [
      "Optimal parameters: {'C': 7, 'multi_class': 'ovr', 'penalty': 'l2', 'solver': 'liblinear', 'tol': 0.01}\n",
      "Matthews score: 0.6730672687972501\n"
     ]
    }
   ],
   "source": [
    "opt3 = optimize(rand=41, transformer=vectorizer)"
   ]
  },
  {
   "cell_type": "markdown",
   "metadata": {},
   "source": [
    "The model seems very stable. With the exception of the C parameter changing from 5 to 7 in the third run, the same optimal parameters were chosen for all three random seeds. See if varying the train/test ratio can improve performance."
   ]
  },
  {
   "cell_type": "code",
   "execution_count": 83,
   "metadata": {},
   "outputs": [
    {
     "name": "stdout",
     "output_type": "stream",
     "text": [
      "Optimal parameters: {'C': 7, 'multi_class': 'ovr', 'penalty': 'l2', 'solver': 'newton-cg', 'tol': 0.01}\n",
      "Matthews score: 0.6941464651260699\n"
     ]
    }
   ],
   "source": [
    "opt4 = optimize(rand=7, transformer=vectorizer, t_size=0.35)"
   ]
  },
  {
   "cell_type": "code",
   "execution_count": 84,
   "metadata": {},
   "outputs": [
    {
     "name": "stdout",
     "output_type": "stream",
     "text": [
      "Optimal parameters: {'C': 3, 'multi_class': 'ovr', 'penalty': 'l2', 'solver': 'liblinear', 'tol': 0.0001}\n",
      "Matthews score: 0.6931456101358475\n"
     ]
    }
   ],
   "source": [
    "opt5 = optimize(rand=7, transformer=vectorizer, t_size=0.3)"
   ]
  },
  {
   "cell_type": "markdown",
   "metadata": {},
   "source": [
    "The model is not overly sensitive to the relative sizes of the train/test split, although both 65/35 (best score) and 70/30 perform slightly better than 60/40, and the best score was obtained with the newton-cg solver instead of liblinear. The decrease in the C parameter on the 70/30 split, however, might indicate that the model is starting to overfit, with larger regression coefficients."
   ]
  },
  {
   "cell_type": "code",
   "execution_count": 93,
   "metadata": {},
   "outputs": [
    {
     "data": {
      "text/plain": [
       "array([ 0.66352941,  0.77078086,  0.85063291,  0.84938272,  0.84946237,\n",
       "        0.99750623,  0.58765432,  0.86327078,  0.77915633,  0.43523316,\n",
       "        0.56132075,  0.76010782,  0.55064935,  0.59340659,  0.66501241])"
      ]
     },
     "execution_count": 93,
     "metadata": {},
     "output_type": "execute_result"
    }
   ],
   "source": [
    "X_train_f1 = vectorizer.fit_transform(X_train)\n",
    "model_f1 = opt4.best_estimator_.fit(X_train_f1, y_train)\n",
    "f1_scores = f1_score(y_test, model_f1.predict(vectorizer.transform(X_test)), average=None)\n",
    "f1_scores"
   ]
  },
  {
   "cell_type": "code",
   "execution_count": 94,
   "metadata": {},
   "outputs": [
    {
     "data": {
      "text/plain": [
       "0.7184737336466781"
      ]
     },
     "execution_count": 94,
     "metadata": {},
     "output_type": "execute_result"
    }
   ],
   "source": [
    "f1_scores.mean()"
   ]
  },
  {
   "cell_type": "markdown",
   "metadata": {},
   "source": [
    "The mean of the average F1 score, a more common metric, on the holdout test set for the 15-class predictions using the optimized logistic regression model is 0.72. The F1 scores for the individual classes ranged from 0.44 to 1.0, showing that the model could identify one author almost perfectly but others only about half the time."
   ]
  },
  {
   "cell_type": "code",
   "execution_count": 95,
   "metadata": {
    "collapsed": true
   },
   "outputs": [],
   "source": [
    "from sklearn.metrics import roc_curve, auc\n",
    "from sklearn.preprocessing import label_binarize\n",
    "from itertools import cycle"
   ]
  },
  {
   "cell_type": "code",
   "execution_count": 96,
   "metadata": {},
   "outputs": [],
   "source": [
    "y_test_bin = label_binarize(y_test, classes=list(names))\n",
    "y_pred_bin = label_binarize(opt4.best_estimator_.predict(vectorizer.transform(X_test)), classes=list(names))"
   ]
  },
  {
   "cell_type": "code",
   "execution_count": 97,
   "metadata": {},
   "outputs": [],
   "source": [
    "fpr = dict()\n",
    "tpr = dict()\n",
    "roc_auc = dict()\n",
    "for i in range(len(names)):\n",
    "    fpr[i], tpr[i], _ = roc_curve(y_test_bin[:, i], y_pred_bin[:, i])\n",
    "    roc_auc[i] = auc(fpr[i], tpr[i])"
   ]
  },
  {
   "cell_type": "code",
   "execution_count": 98,
   "metadata": {},
   "outputs": [
    {
     "data": {
      "image/png": "[encoded data removed]",
      "text/plain": [
       "<matplotlib.figure.Figure at 0x136f49780>"
      ]
     },
     "metadata": {},
     "output_type": "display_data"
    }
   ],
   "source": [
    "colors = cycle(['darkorange', 'cornflowerblue', 'lime', 'deeppink', 'darkviolet'])\n",
    "plt.rcParams[\"figure.figsize\"] = [12.0, 6.0]\n",
    "\n",
    "for i, color in zip(range(len(names)), colors):\n",
    "    plt.plot(fpr[i], tpr[i], color=color, lw=2,\n",
    "             label='Class {0} (area = {1:0.2f})'\n",
    "             ''.format(i, roc_auc[i]))\n",
    "\n",
    "plt.plot([0, 1], [0, 1], 'k--', lw=2)\n",
    "plt.xlim([0.0, 1.0])\n",
    "plt.ylim([0.0, 1.05])\n",
    "plt.xlabel('False Positive Rate')\n",
    "plt.ylabel('True Positive Rate')\n",
    "plt.title('ROC curves for classification by individual authors')\n",
    "plt.legend(loc=\"lower right\")\n",
    "plt.savefig('ROC')\n",
    "plt.show()"
   ]
  },
  {
   "cell_type": "markdown",
   "metadata": {},
   "source": [
    "The ROC curves and AUC-ROC scores shows that the optimal model performs reasonably well on classifying the tweets by individual author, considering that there are 15 classes. MOre than half of the classes have ROC-AUC scores of .85 or above, and only one is below .75."
   ]
  },
  {
   "cell_type": "markdown",
   "metadata": {},
   "source": [
    "## Clustering (again)"
   ]
  },
  {
   "cell_type": "markdown",
   "metadata": {},
   "source": [
    "Try clustering with bigrams added into the tf-idf vector features. "
   ]
  },
  {
   "cell_type": "code",
   "execution_count": 100,
   "metadata": {},
   "outputs": [
    {
     "name": "stdout",
     "output_type": "stream",
     "text": [
      "[(6, 318), (7, 248), (5, 218), (8, 115), (9, 101)]\n",
      "The optimal number of clusters is 6\n",
      "Cluster 0 comprises ['AndrewYNg', 'mrogati', 'naval', 'hmason']\n",
      "Cluster 1 comprises ['KirkDBorne', 'Ronald_vanLoon', 'kdnuggets', 'analyticbridge']\n",
      "Cluster 2 comprises ['BigDataGal']\n",
      "Cluster 3 comprises ['BernardMarr', 'EvanSinar']\n",
      "Cluster 4 comprises ['bobehayes', 'data_nerd']\n",
      "Cluster 5 comprises ['craigbrownphd', 'tamaradull']\n"
     ]
    }
   ],
   "source": [
    "auth_vectors2 = vectorizer2.fit_transform(tweets_by_author['combined'])\n",
    "terms2 = vectorizer2.get_feature_names()\n",
    "cluster_df2 = pd.DataFrame(auth_vectors2.toarray(), index=names, columns=terms2)\n",
    "\n",
    "clusters = []\n",
    "cluster_data2 = normalize(cluster_df2)\n",
    "for _ in range(1000):\n",
    "    best_score = -999\n",
    "    num_labels = 0\n",
    "    for num_clusters in range(5, 10):\n",
    "        km = KMeans(num_clusters)\n",
    "        km.fit(cluster_data2)\n",
    "        sil_score = silhouette_score(cluster_data2, km.labels_)\n",
    "        if sil_score > best_score:\n",
    "            best_score = sil_score\n",
    "            num_labels = num_clusters\n",
    "    clusters.append(num_labels)\n",
    "\n",
    "optimal_num_clusters = Counter(clusters).most_common(1)[0][0]\n",
    "print(Counter(clusters).most_common())\n",
    "print('The optimal number of clusters is {}'.format(optimal_num_clusters))\n",
    "      \n",
    "best_labels = []\n",
    "best_score = -999\n",
    "\n",
    "for _ in range(1000):\n",
    "    km = KMeans(optimal_num_clusters)\n",
    "    km.fit(cluster_data2)\n",
    "    sil_score = silhouette_score(cluster_data2, km.labels_)\n",
    "    if sil_score > best_score:\n",
    "        best_score = sil_score\n",
    "        best_labels = km.labels_\n",
    "\n",
    "for i in range(optimal_num_clusters):\n",
    "    print('Cluster {} comprises {}'.format(i, [name for ix, name in enumerate(names) if best_labels[ix] == i]))"
   ]
  },
  {
   "cell_type": "markdown",
   "metadata": {},
   "source": [
    "One of the individuals has been brought into the 'deep learning' group."
   ]
  },
  {
   "cell_type": "markdown",
   "metadata": {},
   "source": [
    "One last variation will be to match hashtags to concatenated bigrams, and add as many bigrams as matches to the combined tweets for each author. This will allow similarity measures to factor in matches between the bigram and hashtag variants of common two-word phrases, such as 'deep learning,' across authors. This will be used only for clustering, though, since hashtags vs. bigrams is a useful difference for classification purposes. It is expected that this could result in fewer, larger clusters by generating larger similarity scores between authors. "
   ]
  },
  {
   "cell_type": "code",
   "execution_count": 101,
   "metadata": {
    "collapsed": true
   },
   "outputs": [],
   "source": [
    "vectorizer3 = TfidfVectorizer(ngram_range=(2,2), \n",
    "                              max_df=0.5, # drop words that occur in more than half the paragraphs\n",
    "                              min_df=2, # only use words that appear at least twice\n",
    "                              stop_words='english', \n",
    "                              lowercase=True, #convert everything to lower case (since Alice in Wonderland has the HABIT of CAPITALIZING WORDS for EMPHASIS)\n",
    "                              use_idf=True,#we definitely want to use inverse document frequencies in our weighting\n",
    "                              norm=u'l2', #Applies a correction factor so that longer paragraphs and shorter paragraphs get treated equally\n",
    "                              smooth_idf=True #Adds 1 to all document frequencies, as if an extra document existed that used every word once.  Prevents divide-by-zero errors\n",
    "                             )"
   ]
  },
  {
   "cell_type": "code",
   "execution_count": 102,
   "metadata": {},
   "outputs": [],
   "source": [
    "vectorizer3.fit_transform(tweets_by_author['combined'])\n",
    "bigrams = vectorizer3.get_feature_names()"
   ]
  },
  {
   "cell_type": "code",
   "execution_count": 103,
   "metadata": {},
   "outputs": [],
   "source": [
    "# add the bigrams\n",
    "\n",
    "def expand(author):\n",
    "    addition = []\n",
    "    for bigram in bigrams:\n",
    "        num_tags = all_tags[author][bigram.replace(' ', '')]\n",
    "        if num_tags:\n",
    "            addition.extend([bigram] * num_tags)\n",
    "    return ' ' + ' '.join(addition)"
   ]
  },
  {
   "cell_type": "code",
   "execution_count": 104,
   "metadata": {
    "collapsed": true
   },
   "outputs": [],
   "source": [
    "transfer = pd.DataFrame(index=names, columns=['extended'])\n",
    "for name in names:\n",
    "    transfer.loc[name, 'extended'] = tweets_by_author.loc[name, 'combined'] + expand(name)"
   ]
  },
  {
   "cell_type": "code",
   "execution_count": 105,
   "metadata": {},
   "outputs": [],
   "source": [
    "auth_vectors3 = vectorizer2.fit_transform(transfer['extended'])\n",
    "terms3 = vectorizer2.get_feature_names()\n",
    "cluster_df3 = pd.DataFrame(auth_vectors3.toarray(), index=names, columns=terms3)"
   ]
  },
  {
   "cell_type": "code",
   "execution_count": 106,
   "metadata": {},
   "outputs": [
    {
     "name": "stdout",
     "output_type": "stream",
     "text": [
      "[(5, 367), (6, 292), (4, 208), (7, 126), (3, 7)]\n",
      "The optimal number of clusters is 5\n",
      "Cluster 0 comprises ['KirkDBorne', 'Ronald_vanLoon', 'BernardMarr', 'kdnuggets', 'analyticbridge']\n",
      "Cluster 1 comprises ['AndrewYNg', 'mrogati', 'naval', 'hmason']\n",
      "Cluster 2 comprises ['bobehayes', 'data_nerd']\n",
      "Cluster 3 comprises ['craigbrownphd', 'BigDataGal', 'tamaradull']\n",
      "Cluster 4 comprises ['EvanSinar']\n"
     ]
    }
   ],
   "source": [
    "clusters = []\n",
    "cluster_data3 = normalize(cluster_df3)\n",
    "for _ in range(1000):\n",
    "    best_score = -999\n",
    "    num_labels = 0\n",
    "    for num_clusters in range(3, 8):\n",
    "        km = KMeans(num_clusters)\n",
    "        km.fit(cluster_data3)\n",
    "        sil_score = silhouette_score(cluster_data3, km.labels_)\n",
    "        if sil_score > best_score:\n",
    "            best_score = sil_score\n",
    "            num_labels = num_clusters\n",
    "    clusters.append(num_labels)\n",
    "\n",
    "optimal_num_clusters = Counter(clusters).most_common(1)[0][0]\n",
    "print(Counter(clusters).most_common())\n",
    "print('The optimal number of clusters is {}'.format(optimal_num_clusters))\n",
    "      \n",
    "best_labels3 = []\n",
    "best_score3 = -999\n",
    "centers3 = []\n",
    "\n",
    "for _ in range(1000):\n",
    "    km = KMeans(optimal_num_clusters)\n",
    "    km.fit(cluster_data3)\n",
    "    sil_score = silhouette_score(cluster_data3, km.labels_)\n",
    "    if sil_score > best_score3:\n",
    "        best_score3 = sil_score\n",
    "        best_labels3 = km.labels_\n",
    "        centers3 = km.cluster_centers_\n",
    "\n",
    "for i in range(optimal_num_clusters):\n",
    "    print('Cluster {} comprises {}'.format(i, [name for ix, name in enumerate(names) if best_labels3[ix] == i]))"
   ]
  },
  {
   "cell_type": "markdown",
   "metadata": {},
   "source": [
    "This technique produces the most compact clustering. The number of clusters has come down to 5, with the other former individual joining the group that seems to be based on network connections. But EvanSinar, who despite using more than 600 hashtags and mentions initially was put in with the group that used few or none of these entities, now is grouped as an individual. This would support a hypothesis that this author used entities not used by the other authors, since \"double counting\" these as bigrams would isolate this person from both those that used more common entities and those that used few or none. It appears that hashtags and mentions dominated the clustering even when the full tweet texts were used."
   ]
  },
  {
   "cell_type": "code",
   "execution_count": 107,
   "metadata": {},
   "outputs": [
    {
     "name": "stdout",
     "output_type": "stream",
     "text": [
      "High-impact words close to the centroid and common to all members in each cluster\n",
      "\n",
      "\n",
      "Cluster 0:\n",
      "\n",
      " ['neural network', 'ebook'] \n",
      "\n",
      "\n",
      "Cluster 1:\n",
      "\n",
      " ['happy', 'favorite', 'tweet', 'sorry', 'thread', 'enjoy', 'maybe', 'hour', 'outside', 'looking forward', 'wouldn', 'disagree', 'english', 'saying', 'imagine', 'couldn', 'beautiful', 'invest', 'easily', 'wish'] \n",
      "\n",
      "\n",
      "Cluster 2:\n",
      "\n",
      " ['ibmanalytics', 'tmanspeaks', 'machinelearning datascience', 'thecube', 'psb_dc', 'winwithai', 'datachick', 'analyticsx', 'kevin_jackson', 'cspenn', 'callforcode', 'siliconangle', 'sardire', 'ht', 'mclynd', 'nyc', 'customer experience', 'ibmanalytics ibm', 'loyalty', 'womenintech'] \n",
      "\n",
      "\n",
      "Cluster 3:\n",
      "\n",
      " ['ai iot', 'iot bigdata', '5g', 'bigdata iot', 'bigdata ai', 'devices', 'internet things', 'device', 'major', 'private', 'iot ai', 'connectivity', 'sector', 'ericsson', 'industrial', 'states', 'greater', 'deployment', 'rest', 'despite'] \n",
      "\n",
      "\n",
      "Cluster 4:\n",
      "\n",
      " ['viz data', 'data viz', 'viz', 'dataviz', 'leadership', 'hr', 'hranalytics', 'kdnuggets', 'data visualization', 'storywithdata', 'kdnuggets datascience', 'central', 'visualizing', 'flowingdata', 'workplace', 'forecast', 'storytelling', 'futureofwork', 'harvardbiz', 'quartz'] \n",
      "\n",
      "\n"
     ]
    }
   ],
   "source": [
    "centroids3 = centers3.argsort()[:, ::-1]\n",
    "words_df3 = pd.DataFrame(cluster_data3, index=names, columns=terms3)\n",
    "groupings3 = dict(zip(names, best_labels3))\n",
    "print('High-impact words close to the centroid and common to all members in each cluster\\n\\n')\n",
    "for i in range(optimal_num_clusters):\n",
    "    print('Cluster {}:'.format(i))\n",
    "    people = [name for name in names if groupings3[name] == i]\n",
    "    words = []\n",
    "    for ind in centroids3[i]:\n",
    "        word = terms3[ind]\n",
    "        common = True\n",
    "        for person in people:\n",
    "            if words_df3.loc[person, word] <= 0.001: # threshold lowered to produce results for cluster 0\n",
    "                common = False\n",
    "                break\n",
    "        if common == True:\n",
    "            words.append(word)\n",
    "        if len(words) == 20:\n",
    "            break\n",
    "    print('\\n', words, '\\n\\n')"
   ]
  },
  {
   "cell_type": "markdown",
   "metadata": {},
   "source": [
    "As the clusters grow larger, it is more difficult to find terms that all members have in common. But the terms closest to the cluster centers would still sketch common themes."
   ]
  },
  {
   "cell_type": "code",
   "execution_count": 108,
   "metadata": {},
   "outputs": [
    {
     "name": "stdout",
     "output_type": "stream",
     "text": [
      "Words closest to the centroid of each cluster\n",
      "\n",
      "\n",
      "Cluster 0:\n",
      "['deeplearning', 'rt', 'odsc', 'datascientists', 'cc', 'join learn', 'conventional', 'cheat', 'accelerate ai', 'datascience machinelearning'] \n",
      "\n",
      "\n",
      "Cluster 1:\n",
      "['congratulations', 'chrisalbon', 'cloudera', 'coursera', 'happy', 'peteskomoroch', 'fastforwardlabs', 'favorite', 'stanford', 'tweet'] \n",
      "\n",
      "\n",
      "Cluster 2:\n",
      "['artificialintelligence machinelearning', 'ibmanalytics', 'customerexperience', 'tmanspeaks', 'machinelearning datascience', 'thecube', 'psb_dc', 'winwithai', 'datachick', 'analyticsx'] \n",
      "\n",
      "\n",
      "Cluster 3:\n",
      "['huawei', 'ai iot', 'iot bigdata', '5g', 'nytimes', 'bigdata automation', 'ai datascience', 'womenintech', 'datascience bigdata', 'techrepublic'] \n",
      "\n",
      "\n",
      "Cluster 4:\n",
      "['viz data', 'data viz', 'viz', 'dataviz', 'leadership', 'hr', 'hranalytics', 'kdnuggets', 'data visualization', 'storywithdata'] \n",
      "\n",
      "\n"
     ]
    }
   ],
   "source": [
    "print('Words closest to the centroid of each cluster\\n\\n')\n",
    "for i in range(optimal_num_clusters):\n",
    "    print('Cluster {}:'.format(i))\n",
    "    words = [terms3[ind] for ind in centroids3[i][:10]]\n",
    "    print(words, '\\n\\n')"
   ]
  },
  {
   "cell_type": "markdown",
   "metadata": {},
   "source": [
    "The former group that seemed to highlight management concerns but also might have had a stronger connection to the ODSC Europe conference has disappeared, with both members now assigned to other clusters. The largest now is the AI/machine learning group, cluster 0, comprising KirkDBorne, Ronald_vanLoon, BernardMarr, kdnuggets and analyticbridge. Next comes the cluster 1 group of four authors — AndrewYNg, mrogati, naval, hmason — who used few or no hashtags and mentions. The emerging technology group, cluster 3, now has three members: craigbrownphd, BigDataGal and tamaradull. Interestingly, cluster 2, the two authors seemingly grouped together via networking — bobehayes and data_nerd — now has some strong thematic content having to do with machine learning and AI. But it remains separate. Also interesting is that cluster 4, the only remaining group of one, EvanSinar, now reveals that this author has an especially tight focus on data stories and visualization."
   ]
  },
  {
   "cell_type": "code",
   "execution_count": 109,
   "metadata": {},
   "outputs": [
    {
     "data": {
      "text/plain": [
       "0.039678490663841451"
      ]
     },
     "execution_count": 109,
     "metadata": {},
     "output_type": "execute_result"
    }
   ],
   "source": [
    "best_score1"
   ]
  },
  {
   "cell_type": "code",
   "execution_count": 110,
   "metadata": {},
   "outputs": [
    {
     "data": {
      "text/plain": [
       "0.031624647864379983"
      ]
     },
     "execution_count": 110,
     "metadata": {},
     "output_type": "execute_result"
    }
   ],
   "source": [
    "best_score3"
   ]
  },
  {
   "cell_type": "markdown",
   "metadata": {},
   "source": [
    "Besides its tighter thematic ties, this final 5-cluster grouping has a silhouette score of .032, which is 25% lower than the .040 score of the 7-cluster grouping based on the initial tf=idf vectorization of the tweet texts."
   ]
  },
  {
   "cell_type": "code",
   "execution_count": 111,
   "metadata": {},
   "outputs": [
    {
     "name": "stdout",
     "output_type": "stream",
     "text": [
      "Component 0:\n",
      "AndrewYNg         0.465118\n",
      "hmason            0.455353\n",
      "mrogati           0.450647\n",
      "kdnuggets         0.449655\n",
      "data_nerd         0.438225\n",
      "KirkDBorne        0.424037\n",
      "BernardMarr       0.413707\n",
      "tamaradull        0.404927\n",
      "naval             0.358381\n",
      "bobehayes         0.322923\n",
      "craigbrownphd     0.299978\n",
      "analyticbridge    0.262553\n",
      "Ronald_vanLoon    0.256188\n",
      "BigDataGal        0.172761\n",
      "EvanSinar         0.167920\n",
      "Name: 0, dtype: float64\n",
      "Component 1:\n",
      "KirkDBorne        0.558886\n",
      "kdnuggets         0.467283\n",
      "Ronald_vanLoon    0.277663\n",
      "bobehayes         0.269206\n",
      "BernardMarr       0.173026\n",
      "analyticbridge    0.166537\n",
      "EvanSinar         0.114063\n",
      "BigDataGal        0.085725\n",
      "craigbrownphd    -0.042742\n",
      "data_nerd        -0.074370\n",
      "tamaradull       -0.110420\n",
      "AndrewYNg        -0.261734\n",
      "naval            -0.354660\n",
      "mrogati          -0.443195\n",
      "hmason           -0.473813\n",
      "Name: 1, dtype: float64\n",
      "Component 2:\n",
      "tamaradull        0.454379\n",
      "data_nerd         0.391926\n",
      "bobehayes         0.351293\n",
      "BigDataGal        0.347492\n",
      "craigbrownphd     0.335859\n",
      "BernardMarr       0.046452\n",
      "EvanSinar         0.028667\n",
      "naval            -0.039486\n",
      "analyticbridge   -0.085049\n",
      "AndrewYNg        -0.162098\n",
      "KirkDBorne       -0.224542\n",
      "hmason           -0.250226\n",
      "Ronald_vanLoon   -0.263244\n",
      "kdnuggets        -0.291772\n",
      "mrogati          -0.298082\n",
      "Name: 2, dtype: float64\n",
      "Component 3:\n",
      "analyticbridge    0.666054\n",
      "kdnuggets         0.259415\n",
      "craigbrownphd     0.210399\n",
      "BernardMarr       0.115593\n",
      "tamaradull        0.100649\n",
      "EvanSinar         0.099317\n",
      "naval             0.067146\n",
      "BigDataGal        0.012240\n",
      "AndrewYNg        -0.050368\n",
      "mrogati          -0.073910\n",
      "hmason           -0.110263\n",
      "data_nerd        -0.135310\n",
      "KirkDBorne       -0.168257\n",
      "bobehayes        -0.427078\n",
      "Ronald_vanLoon   -0.431598\n",
      "Name: 3, dtype: float64\n",
      "Component 4:\n",
      "craigbrownphd     0.519993\n",
      "Ronald_vanLoon    0.296850\n",
      "BernardMarr       0.293188\n",
      "tamaradull        0.214828\n",
      "naval             0.122034\n",
      "AndrewYNg         0.063862\n",
      "KirkDBorne        0.057873\n",
      "kdnuggets        -0.019351\n",
      "BigDataGal       -0.074925\n",
      "mrogati          -0.110046\n",
      "hmason           -0.156462\n",
      "data_nerd        -0.311608\n",
      "analyticbridge   -0.314618\n",
      "bobehayes        -0.356571\n",
      "EvanSinar        -0.366320\n",
      "Name: 4, dtype: float64\n"
     ]
    }
   ],
   "source": [
    "# reduce feature space to 5 principal components and choose two with the greatest spread among authors for graphing\n",
    "\n",
    "cluster_lsa3 = svd.fit_transform(cluster_data3)\n",
    "\n",
    "authors_by_component3 = pd.DataFrame(cluster_lsa3, index=names)\n",
    "for i in range(5):\n",
    "    print('Component {}:'.format(i))\n",
    "    print(authors_by_component3.loc[:,i].sort_values(ascending=False)[0:15])"
   ]
  },
  {
   "cell_type": "code",
   "execution_count": 112,
   "metadata": {},
   "outputs": [
    {
     "name": "stdout",
     "output_type": "stream",
     "text": [
      "Component 0 explains 0.01140076467150525 of the total variance:\n",
      "Component 1 explains 0.1063143463994803 of the total variance:\n",
      "Component 2 explains 0.08472455959562217 of the total variance:\n",
      "Component 3 explains 0.07887838473425934 of the total variance:\n",
      "Component 4 explains 0.07766157574383944 of the total variance:\n"
     ]
    }
   ],
   "source": [
    "variance_explained3 = svd.explained_variance_ratio_\n",
    "for i in range(5):\n",
    "    print('Component {} explains {} of the total variance:'.format(i, variance_explained3[i]))"
   ]
  },
  {
   "cell_type": "markdown",
   "metadata": {},
   "source": [
    "*Note: It seems odd that the first component explains less of the variance than any of the next 4.*"
   ]
  },
  {
   "cell_type": "code",
   "execution_count": 113,
   "metadata": {},
   "outputs": [
    {
     "data": {
      "image/png": "[encoded data removed]",
      "text/plain": [
       "<matplotlib.figure.Figure at 0x136f3e048>"
      ]
     },
     "metadata": {},
     "output_type": "display_data"
    }
   ],
   "source": [
    "authors_by_component3['label'] = best_labels3\n",
    "cmap = sns.color_palette('cubehelix', 5)\n",
    "ax = sns.scatterplot(data=authors_by_component3, x=1, y=3, hue='label', palette=cmap)\n",
    "ax.set_title('Clusters plotted against 2 of 5 principal components')\n",
    "ax.set_ylabel('lsa3')\n",
    "ax.set_xlabel('lsa1')\n",
    "plt.legend(bbox_to_anchor=(1.05, 1), loc=2, borderaxespad=0.)\n",
    "plt.savefig('cluster_plot')"
   ]
  },
  {
   "cell_type": "markdown",
   "metadata": {},
   "source": [
    "In the final clustering, none of the clusters overlap even though the two components being graphed explain less than 20% of the total variance. This low explained variance also provides reasonable cause for the two points closest together in the graph, near (0.3, -0.4) being assigned to different clusters."
   ]
  },
  {
   "cell_type": "markdown",
   "metadata": {},
   "source": [
    "Look at the ROC-AUC scores in light of the cluster assignments."
   ]
  },
  {
   "cell_type": "code",
   "execution_count": 127,
   "metadata": {},
   "outputs": [
    {
     "name": "stdout",
     "output_type": "stream",
     "text": [
      "F1 scores for group 0: [0.893, 1.0, 0.875, 0.848, 0.783]\n",
      "F1 scores for group 1: [0.838, 0.751, 0.817, 0.779]\n",
      "F1 scores for group 2: [0.901, 0.692]\n",
      "F1 scores for group 3: [0.885, 0.916, 0.823]\n"
     ]
    }
   ],
   "source": [
    "from math import ceil\n",
    "scores_df = pd.DataFrame(index=names, columns=['score', 'label'])\n",
    "scores_df['score'] = [roc_auc[ix] for ix in range(len(names))]\n",
    "scores_df['label'] = best_labels3\n",
    "for i in range(max(best_labels3)):\n",
    "    scores = [scores_df.loc[name, 'score'] for name in names if scores_df.loc[name, 'label'] == i]\n",
    "    print('F1 scores for group {}: {}'.format(i, [ceil(score * 1000)/1000 for score in scores]))\n",
    "    "
   ]
  },
  {
   "cell_type": "markdown",
   "metadata": {},
   "source": [
    "The scores vary widely within clusters, which at least partially explains why the classification was not noticeably better using class labels instead of individuals. The similarity that clustering looks for and the dissimilarity that  classification relies on are somewhat at odds."
   ]
  },
  {
   "cell_type": "markdown",
   "metadata": {},
   "source": [
    "As part of the project idea was to compare classification vs clustering on the text data, run a basic comparison using the adjusted Rand score to see how close clustering comes to the classification performance. Use a basic logistic regression estimator instead of the optimized one."
   ]
  },
  {
   "cell_type": "code",
   "execution_count": 133,
   "metadata": {},
   "outputs": [
    {
     "data": {
      "text/plain": [
       "0.10150475506628934"
      ]
     },
     "execution_count": 133,
     "metadata": {},
     "output_type": "execute_result"
    }
   ],
   "source": [
    "km15 = KMeans(15)\n",
    "km15.fit(normalize(X_train_tfidf))\n",
    "adjusted_rand_score(y_train, km15.labels_)"
   ]
  },
  {
   "cell_type": "code",
   "execution_count": 137,
   "metadata": {},
   "outputs": [
    {
     "data": {
      "text/plain": [
       "0.80781691746462525"
      ]
     },
     "execution_count": 137,
     "metadata": {},
     "output_type": "execute_result"
    }
   ],
   "source": [
    "lrc.fit(X_train_tfidf, y_train)\n",
    "adjusted_rand_score(y_train, lrc.predict(X_train_tfidf))"
   ]
  },
  {
   "cell_type": "markdown",
   "metadata": {},
   "source": [
    "Basically, there is no comparison."
   ]
  }
 ],
 "metadata": {
  "kernelspec": {
   "display_name": "Python 3",
   "language": "python",
   "name": "python3"
  },
  "language_info": {
   "codemirror_mode": {
    "name": "ipython",
    "version": 3
   },
   "file_extension": ".py",
   "mimetype": "text/x-python",
   "name": "python",
   "nbconvert_exporter": "python",
   "pygments_lexer": "ipython3",
   "version": "3.6.2"
  }
 },
 "nbformat": 4,
 "nbformat_minor": 2
}
